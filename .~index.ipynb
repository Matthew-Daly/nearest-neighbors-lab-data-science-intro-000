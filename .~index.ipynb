{
 "cells": [
  {
   "cell_type": "markdown",
   "metadata": {},
   "source": [
    "# Nearest Neighbors Lab"
   ]
  },
  {
   "cell_type": "markdown",
   "metadata": {},
   "source": [
    "### Introduction\n",
    "\n",
    "In this lab, you apply nearest neighbors technique to help a taxi company predict the length of their rides.  Imagine that we are hired to consult for LiftOff, a limo and taxi service that is just opening up in NYC.  Liftoff wants it's taxi drivers to target longer rides, as the longer the ride the more money it makes.  LiftOff has the following theory:\n",
    "\n",
    "* the pickup location of a taxi ride can help predict the length of the ride.  \n",
    "\n",
    "\n",
    "\n",
    "LiftOff asks us to do some analysis to write a function that will allow it to **predict the length of a taxi ride for any given location **.\n",
    "\n",
    "Our technique will be the following:\n",
    "  * **Collect** Obtain the data containing all of the taxi information, and only select the attributes of taxi trips that we need \n",
    "  * ** Explore ** Examine the attributes of our data, and plot some of our data on a map\n",
    "  * ** Train ** Write our nearest neighbors formula, and change the number of nearby trips to predict the length of a new trip\n",
    "  * ** Predict ** Use our function to predict trip lengths of new locations"
   ]
  },
  {
   "cell_type": "markdown",
   "metadata": {},
   "source": [
    "### Collect and Explore the data"
   ]
  },
  {
   "cell_type": "markdown",
   "metadata": {},
   "source": [
    "#### Collect the Data"
   ]
  },
  {
   "cell_type": "markdown",
   "metadata": {},
   "source": [
    "Luckily for us, [NYC Open Data](https://opendata.cityofnewyork.us/) collects information about NYC taxi trips and provides this data on [its website](https://data.cityofnewyork.us/Transportation/2014-Yellow-Taxi-Trip-Data/gn7m-em8n)."
   ]
  },
  {
   "cell_type": "markdown",
   "metadata": {},
   "source": [
    "![](./nyc-taxi.png)"
   ]
  },
  {
   "cell_type": "markdown",
   "metadata": {},
   "source": [
    "For your reading pleasure, the data has already been downloaded into the [trips.json](https://github.com/learn-co-curriculum/nearest-neighbors-lab/blob/master/trips.json) file in this lab which you can find here.  We'll use Python's `json` library to take the data from the `trips.json` file and store it as a variable in our notebook."
   ]
  },
  {
   "cell_type": "code",
   "execution_count": 2,
   "metadata": {},
   "outputs": [],
   "source": [
    "import json\n",
    "# First, read the file\n",
    "trips_file = open('trips.json')\n",
    "# Then, convert contents to list of dictionaries \n",
    "trips = json.load(trips_file)"
   ]
  },
  {
   "cell_type": "markdown",
   "metadata": {},
   "source": [
    "> Press shift + enter"
   ]
  },
  {
   "cell_type": "markdown",
   "metadata": {},
   "source": [
    "#### Explore the data"
   ]
  },
  {
   "cell_type": "markdown",
   "metadata": {},
   "source": [
    "The next step is to explore the data.  First, let's see how many trips we have."
   ]
  },
  {
   "cell_type": "code",
   "execution_count": 3,
   "metadata": {},
   "outputs": [
    {
     "data": {
      "text/plain": [
       "1000"
      ]
     },
     "execution_count": 3,
     "metadata": {},
     "output_type": "execute_result"
    }
   ],
   "source": [
    "len(trips)"
   ]
  },
  {
   "cell_type": "markdown",
   "metadata": {},
   "source": [
    "Not bad at all.  Now let's see what each individual trip looks like.  Each trip is a dictionary, so we can see the attributes of each trip with the `keys` function."
   ]
  },
  {
   "cell_type": "code",
   "execution_count": 4,
   "metadata": {
    "scrolled": true
   },
   "outputs": [
    {
     "data": {
      "text/plain": [
       "dict_keys(['dropoff_datetime', 'dropoff_latitude', 'dropoff_longitude', 'fare_amount', 'imp_surcharge', 'mta_tax', 'passenger_count', 'payment_type', 'pickup_datetime', 'pickup_latitude', 'pickup_longitude', 'rate_code', 'tip_amount', 'tolls_amount', 'total_amount', 'trip_distance', 'vendor_id'])"
      ]
     },
     "execution_count": 4,
     "metadata": {},
     "output_type": "execute_result"
    }
   ],
   "source": [
    "trips[0].keys()"
   ]
  },
  {
   "cell_type": "markdown",
   "metadata": {},
   "source": [
    "#### Limit our data"
   ]
  },
  {
   "cell_type": "markdown",
   "metadata": {},
   "source": [
    "Ok, now that we have explored some of our data, let's begin to think through what data is relevant for our task."
   ]
  },
  {
   "cell_type": "markdown",
   "metadata": {
    "collapsed": true
   },
   "source": [
    "Remember that our task is to **use the trip location to predict the length of a trip**.  So let's select the `pickup_latitude`, `pickup_longitude`, and `trip_distance` from each trip.  That will give us the trip location and related `trip_distance` for each trip.  Then based on these **actual** trip distances we can use nearest neighbors to predict an **expected** trip distance for a trip, provided an **actual** location."
   ]
  },
  {
   "cell_type": "markdown",
   "metadata": {},
   "source": [
    "** Add in about trip distance ** "
   ]
  },
  {
   "cell_type": "markdown",
   "metadata": {},
   "source": [
    "Write a function called `parse_trips(trips)` that returns a list of the trips with only the following attributes: \n",
    "* `trip_distance`\n",
    "* `pickup_latitude`\n",
    "* `pickup_longitude`"
   ]
  },
  {
   "cell_type": "code",
   "execution_count": 8,
   "metadata": {},
   "outputs": [],
   "source": [
    "def parse_trips(trips):\n",
    "    return list(map(lambda trip: {'trip_distance': trip['trip_distance'], 'pickup_latitude': trip['pickup_latitude'], 'pickup_longitude': trip['pickup_longitude']}, trips))"
   ]
  },
  {
   "cell_type": "code",
   "execution_count": 9,
   "metadata": {},
   "outputs": [
    {
     "data": {
      "text/plain": [
       "{'trip_distance': '18.379999999999999',\n",
       " 'pickup_latitude': '40.64499',\n",
       " 'pickup_longitude': '-73.781149999999997'}"
      ]
     },
     "execution_count": 9,
     "metadata": {},
     "output_type": "execute_result"
    }
   ],
   "source": [
    "parsed_trips = parse_trips(trips)\n",
    "parsed_trips and parsed_trips[0]\n",
    "\n",
    "# {'pickup_latitude': '40.64499',\n",
    "#  'pickup_longitude': '-73.78115',\n",
    "#  'trip_distance': '18.38'}"
   ]
  },
  {
   "cell_type": "markdown",
   "metadata": {},
   "source": [
    "Now, there's just one change to make.  If you look at one of the trips, all of the values are strings.  Let's change them to be floats."
   ]
  },
  {
   "cell_type": "code",
   "execution_count": 10,
   "metadata": {},
   "outputs": [],
   "source": [
    "def float_values(trips):    \n",
    "    return list(map(lambda trip: {'trip_distance': float(trip['trip_distance']), 'pickup_latitude': float(trip['pickup_latitude']), 'pickup_longitude': float(trip['pickup_longitude'])}, trips))"
   ]
  },
  {
   "cell_type": "code",
   "execution_count": 11,
   "metadata": {},
   "outputs": [],
   "source": [
    "cleaned_trips = float_values(parsed_trips)"
   ]
  },
  {
   "cell_type": "code",
   "execution_count": 12,
   "metadata": {},
   "outputs": [
    {
     "data": {
      "text/plain": [
       "{'trip_distance': 18.38,\n",
       " 'pickup_latitude': 40.64499,\n",
       " 'pickup_longitude': -73.78115}"
      ]
     },
     "execution_count": 12,
     "metadata": {},
     "output_type": "execute_result"
    }
   ],
   "source": [
    "cleaned_trips[0]\n",
    "\n",
    "# {'pickup_latitude': 40.64499,\n",
    "#  'pickup_longitude': -73.78115,\n",
    "#  'trip_distance': 18.38}"
   ]
  },
  {
   "cell_type": "markdown",
   "metadata": {},
   "source": [
    "### Exploring the Data"
   ]
  },
  {
   "cell_type": "markdown",
   "metadata": {},
   "source": [
    "Now that we have paired down our data, let's get a sense of our trip data.  We can use the `folium` Python library to plot a map of Manhattan, and our data.  First we must import `folium`, and then use the `Map` function to pass through a `location`, and `zoom_start`.  If a map isn't showing up below, copy and paste the command `pip install -r requirements.txt` into your terminal to install `folium` then try again."
   ]
  },
  {
   "cell_type": "code",
   "execution_count": 16,
   "metadata": {},
   "outputs": [
    {
     "name": "stdout",
     "output_type": "stream",
     "text": [
      "Collecting folium\n",
      "  Using cached https://files.pythonhosted.org/packages/88/89/8186c3441eb2a224d2896d9a8db6ded20ddd225f109e6144494a9893a0c1/folium-0.6.0-py3-none-any.whl\n",
      "Requirement already satisfied: requests in /opt/conda/envs/learn-env/lib/python3.6/site-packages (from folium) (2.19.1)\n",
      "Requirement already satisfied: numpy in /opt/conda/envs/learn-env/lib/python3.6/site-packages (from folium) (1.15.0)\n",
      "Collecting branca>=0.3.0 (from folium)\n",
      "  Using cached https://files.pythonhosted.org/packages/b5/18/13c018655f722896f25791f1db687db5671bd79285e05b3dd8c309b36414/branca-0.3.0-py3-none-any.whl\n",
      "Requirement already satisfied: six in /opt/conda/envs/learn-env/lib/python3.6/site-packages (from folium) (1.11.0)\n",
      "Requirement already satisfied: jinja2 in /opt/conda/envs/learn-env/lib/python3.6/site-packages (from folium) (2.10)\n",
      "Requirement already satisfied: urllib3<1.24,>=1.21.1 in /opt/conda/envs/learn-env/lib/python3.6/site-packages (from requests->folium) (1.23)\n",
      "Requirement already satisfied: certifi>=2017.4.17 in /opt/conda/envs/learn-env/lib/python3.6/site-packages (from requests->folium) (2018.8.13)\n",
      "Requirement already satisfied: idna<2.8,>=2.5 in /opt/conda/envs/learn-env/lib/python3.6/site-packages (from requests->folium) (2.7)\n",
      "Requirement already satisfied: chardet<3.1.0,>=3.0.2 in /opt/conda/envs/learn-env/lib/python3.6/site-packages (from requests->folium) (3.0.4)\n",
      "Requirement already satisfied: MarkupSafe>=0.23 in /opt/conda/envs/learn-env/lib/python3.6/site-packages (from jinja2->folium) (1.0)\n",
      "Installing collected packages: branca, folium\n",
      "Successfully installed branca-0.3.0 folium-0.6.0\n",
      "\u001b[33mYou are using pip version 10.0.1, however version 18.1 is available.\n",
      "You should consider upgrading via the 'pip install --upgrade pip' command.\u001b[0m\n"
     ]
    }
   ],
   "source": [
    "!pip install folium \n",
    "import folium\n",
    "manhattan_map = folium.Map(location=[40.7589, -73.9851], zoom_start=11)"
   ]
  },
  {
   "cell_type": "code",
   "execution_count": 17,
   "metadata": {
    "scrolled": true
   },
   "outputs": [
    {
     "data": {
      "text/html": [
       "<div style=\"width:100%;\"><div style=\"position:relative;width:100%;height:0;padding-bottom:60%;\"><iframe src=\"data:text/html;charset=utf-8;base64,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\" style=\"position:absolute;width:100%;height:100%;left:0;top:0;border:none !important;\" allowfullscreen webkitallowfullscreen mozallowfullscreen></iframe></div></div>"
      ],
      "text/plain": [
       "<folium.folium.Map at 0x7eff50570eb8>"
      ]
     },
     "execution_count": 17,
     "metadata": {},
     "output_type": "execute_result"
    }
   ],
   "source": [
    "manhattan_map"
   ]
  },
  {
   "cell_type": "markdown",
   "metadata": {},
   "source": [
    "Ok, now let's see how we could add a dot to mark a specific location.  We'll start with Times Square."
   ]
  },
  {
   "cell_type": "code",
   "execution_count": 18,
   "metadata": {},
   "outputs": [
    {
     "data": {
      "text/plain": [
       "<folium.vector_layers.CircleMarker at 0x7eff1fb0e0f0>"
      ]
     },
     "execution_count": 18,
     "metadata": {},
     "output_type": "execute_result"
    }
   ],
   "source": [
    "marker = folium.CircleMarker(location = [40.7589, -73.9851], radius=10)\n",
    "marker.add_to(manhattan_map)"
   ]
  },
  {
   "cell_type": "markdown",
   "metadata": {},
   "source": [
    "Above, we first create a marker.  Then we add that circle marker to the `manhattan_map` we created earlier. "
   ]
  },
  {
   "cell_type": "code",
   "execution_count": 19,
   "metadata": {
    "scrolled": false
   },
   "outputs": [
    {
     "data": {
      "text/html": [
       "<div style=\"width:100%;\"><div style=\"position:relative;width:100%;height:0;padding-bottom:60%;\"><iframe src=\"data:text/html;charset=utf-8;base64,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\" style=\"position:absolute;width:100%;height:100%;left:0;top:0;border:none !important;\" allowfullscreen webkitallowfullscreen mozallowfullscreen></iframe></div></div>"
      ],
      "text/plain": [
       "<folium.folium.Map at 0x7eff50570eb8>"
      ]
     },
     "execution_count": 19,
     "metadata": {},
     "output_type": "execute_result"
    }
   ],
   "source": [
    "manhattan_map"
   ]
  },
  {
   "cell_type": "markdown",
   "metadata": {},
   "source": [
    "Do you see that blue dot near Time's Square?  That is our marker.  \n",
    "\n",
    "So now that we can plot one marker on a map, we should have a sense of how we can plot many markers on a map to display our taxi ride data.  We simply plot a map, and then we add a marker for each location of a taxi trip.\n",
    "\n",
    "Now let's write some functions to allow us to plot maps and add markers a little more easily.  "
   ]
  },
  {
   "cell_type": "markdown",
   "metadata": {},
   "source": [
    "#### Writing some map plotting functions"
   ]
  },
  {
   "cell_type": "markdown",
   "metadata": {},
   "source": [
    "As a first step towards this, note that the functions to create both a marker and map each take in a location as two element list, representing the latitude and longitude values.  Take another look:\n",
    "\n",
    "```python\n",
    "marker = folium.CircleMarker(location = [40.7589, -73.9851])\n",
    "manhattan_map = folium.Map(location=[40.7589, -73.9851])\n",
    "```\n",
    "\n",
    "So let's write a function called to create this two element list from a trip.  Write a function called `location` that  takes in a trip as an argument and returns a list where the first element is the latitude and the second is the longitude.  Remember that a location looks like the following:"
   ]
  },
  {
   "cell_type": "code",
   "execution_count": 20,
   "metadata": {},
   "outputs": [
    {
     "data": {
      "text/plain": [
       "{'pickup_latitude': 40.64499,\n",
       " 'pickup_longitude': -73.78115,\n",
       " 'trip_distance': 18.38}"
      ]
     },
     "execution_count": 20,
     "metadata": {},
     "output_type": "execute_result"
    }
   ],
   "source": [
    "first_trip = {'pickup_latitude': 40.64499, 'pickup_longitude': -73.78115,  'trip_distance': 18.38}\n",
    "first_trip"
   ]
  },
  {
   "cell_type": "code",
   "execution_count": 23,
   "metadata": {},
   "outputs": [],
   "source": [
    "def location(trip):\n",
    "    return [trip['pickup_latitude'], trip['pickup_longitude']]"
   ]
  },
  {
   "cell_type": "code",
   "execution_count": 24,
   "metadata": {},
   "outputs": [
    {
     "data": {
      "text/plain": [
       "[40.64499, -73.78115]"
      ]
     },
     "execution_count": 24,
     "metadata": {},
     "output_type": "execute_result"
    }
   ],
   "source": [
    "first_location = location(first_trip) # [40.64499, -73.78115]\n",
    "first_location # [40.64499, -73.78115]"
   ]
  },
  {
   "cell_type": "markdown",
   "metadata": {},
   "source": [
    "Ok, now that we can turn a trip into a location, let's turn a location into a marker.  Write a function called `to_marker` that takes in a location (in the form of a list) as an argument, and returns a folium `circleMarker` for that location.  The radius of the marker should always equal 6."
   ]
  },
  {
   "cell_type": "code",
   "execution_count": 27,
   "metadata": {},
   "outputs": [],
   "source": [
    "def to_marker(location):\n",
    "    marker = folium.CircleMarker([location[0], location[1]], radius=6)\n",
    "    return marker"
   ]
  },
  {
   "cell_type": "code",
   "execution_count": 29,
   "metadata": {},
   "outputs": [
    {
     "data": {
      "text/plain": [
       "[40.7589, -73.9851]"
      ]
     },
     "execution_count": 29,
     "metadata": {},
     "output_type": "execute_result"
    }
   ],
   "source": [
    "import json\n",
    "times_square_marker = to_marker([40.7589, -73.9851])\n",
    "\n",
    "times_square_marker and times_square_marker.location # [40.7589, -73.9851]\n",
    "# times_square_marker and json.loads(times_square_marker.options)['radius'] # 6"
   ]
  },
  {
   "cell_type": "markdown",
   "metadata": {},
   "source": [
    "Ok, now that we know how to produce a single marker, let's write a function to produce lots.  We can write a function called `markers_from_trips` that takes in a list of trips, and returns a marker object for each trip.  "
   ]
  },
  {
   "cell_type": "code",
   "execution_count": 34,
   "metadata": {},
   "outputs": [],
   "source": [
    "def markers_from_trips(trips):\n",
    "    return list(map(lambda trip: to_marker(location(trip)), trips))"
   ]
  },
  {
   "cell_type": "code",
   "execution_count": 38,
   "metadata": {},
   "outputs": [
    {
     "data": {
      "text/plain": [
       "[<folium.vector_layers.CircleMarker at 0x7eff1fabf6a0>,\n",
       " <folium.vector_layers.CircleMarker at 0x7eff1fabf278>,\n",
       " <folium.vector_layers.CircleMarker at 0x7eff1fabf0b8>,\n",
       " <folium.vector_layers.CircleMarker at 0x7eff1fabf4e0>,\n",
       " <folium.vector_layers.CircleMarker at 0x7eff1fabf438>,\n",
       " <folium.vector_layers.CircleMarker at 0x7eff1fabf710>,\n",
       " <folium.vector_layers.CircleMarker at 0x7eff1fabf2e8>,\n",
       " <folium.vector_layers.CircleMarker at 0x7eff1fabfb00>,\n",
       " <folium.vector_layers.CircleMarker at 0x7eff1fabf470>,\n",
       " <folium.vector_layers.CircleMarker at 0x7eff1fabfe80>,\n",
       " <folium.vector_layers.CircleMarker at 0x7eff1fabfcf8>,\n",
       " <folium.vector_layers.CircleMarker at 0x7eff1fabf860>,\n",
       " <folium.vector_layers.CircleMarker at 0x7eff1fa60390>,\n",
       " <folium.vector_layers.CircleMarker at 0x7eff1fa60550>,\n",
       " <folium.vector_layers.CircleMarker at 0x7eff1fa60668>,\n",
       " <folium.vector_layers.CircleMarker at 0x7eff1fa60208>,\n",
       " <folium.vector_layers.CircleMarker at 0x7eff1fa60860>,\n",
       " <folium.vector_layers.CircleMarker at 0x7eff1fabfe48>,\n",
       " <folium.vector_layers.CircleMarker at 0x7eff1fabfbe0>,\n",
       " <folium.vector_layers.CircleMarker at 0x7eff1fabf208>,\n",
       " <folium.vector_layers.CircleMarker at 0x7eff1fabf550>,\n",
       " <folium.vector_layers.CircleMarker at 0x7eff1f8c59b0>,\n",
       " <folium.vector_layers.CircleMarker at 0x7eff1fabff98>,\n",
       " <folium.vector_layers.CircleMarker at 0x7eff1fabf518>,\n",
       " <folium.vector_layers.CircleMarker at 0x7eff1fabf1d0>,\n",
       " <folium.vector_layers.CircleMarker at 0x7eff1f8e8fd0>,\n",
       " <folium.vector_layers.CircleMarker at 0x7eff1f8e85c0>,\n",
       " <folium.vector_layers.CircleMarker at 0x7eff1fabfc88>,\n",
       " <folium.vector_layers.CircleMarker at 0x7eff1f8e8e10>,\n",
       " <folium.vector_layers.CircleMarker at 0x7eff1f8e8748>,\n",
       " <folium.vector_layers.CircleMarker at 0x7eff1f8e8080>,\n",
       " <folium.vector_layers.CircleMarker at 0x7eff1f8e88d0>,\n",
       " <folium.vector_layers.CircleMarker at 0x7eff1f8e84a8>,\n",
       " <folium.vector_layers.CircleMarker at 0x7eff1f8e8a58>,\n",
       " <folium.vector_layers.CircleMarker at 0x7eff1f8e8860>,\n",
       " <folium.vector_layers.CircleMarker at 0x7eff1f8e81d0>,\n",
       " <folium.vector_layers.CircleMarker at 0x7eff1f8d6240>,\n",
       " <folium.vector_layers.CircleMarker at 0x7eff1f8d65c0>,\n",
       " <folium.vector_layers.CircleMarker at 0x7eff1f8d6e48>,\n",
       " <folium.vector_layers.CircleMarker at 0x7eff1fa60048>,\n",
       " <folium.vector_layers.CircleMarker at 0x7eff1fabff60>,\n",
       " <folium.vector_layers.CircleMarker at 0x7eff1fabfb38>,\n",
       " <folium.vector_layers.CircleMarker at 0x7eff1fabf9b0>,\n",
       " <folium.vector_layers.CircleMarker at 0x7eff1fabf5f8>,\n",
       " <folium.vector_layers.CircleMarker at 0x7eff1fabfdd8>,\n",
       " <folium.vector_layers.CircleMarker at 0x7eff1fabff28>,\n",
       " <folium.vector_layers.CircleMarker at 0x7eff1f8e8d30>,\n",
       " <folium.vector_layers.CircleMarker at 0x7eff1f8e8f98>,\n",
       " <folium.vector_layers.CircleMarker at 0x7eff1f8e8390>,\n",
       " <folium.vector_layers.CircleMarker at 0x7eff1f8e8278>,\n",
       " <folium.vector_layers.CircleMarker at 0x7eff1f8e8e48>,\n",
       " <folium.vector_layers.CircleMarker at 0x7eff1f8e8b00>,\n",
       " <folium.vector_layers.CircleMarker at 0x7eff1f8e8dd8>,\n",
       " <folium.vector_layers.CircleMarker at 0x7eff1f90a7f0>,\n",
       " <folium.vector_layers.CircleMarker at 0x7eff1f8f7ba8>,\n",
       " <folium.vector_layers.CircleMarker at 0x7eff1f8c53c8>,\n",
       " <folium.vector_layers.CircleMarker at 0x7eff1f8d6d30>,\n",
       " <folium.vector_layers.CircleMarker at 0x7eff1f8d6cf8>,\n",
       " <folium.vector_layers.CircleMarker at 0x7eff1f92fe48>,\n",
       " <folium.vector_layers.CircleMarker at 0x7eff1fa60630>,\n",
       " <folium.vector_layers.CircleMarker at 0x7eff1fa60278>,\n",
       " <folium.vector_layers.CircleMarker at 0x7eff1fa60b38>,\n",
       " <folium.vector_layers.CircleMarker at 0x7eff1fa60a90>,\n",
       " <folium.vector_layers.CircleMarker at 0x7eff1f92fb70>,\n",
       " <folium.vector_layers.CircleMarker at 0x7eff1f8c5908>,\n",
       " <folium.vector_layers.CircleMarker at 0x7eff1f8d6f98>,\n",
       " <folium.vector_layers.CircleMarker at 0x7eff1f8d67f0>,\n",
       " <folium.vector_layers.CircleMarker at 0x7eff1f8e82b0>,\n",
       " <folium.vector_layers.CircleMarker at 0x7eff1f8e8470>,\n",
       " <folium.vector_layers.CircleMarker at 0x7eff1f8e8208>,\n",
       " <folium.vector_layers.CircleMarker at 0x7eff1f8e87b8>,\n",
       " <folium.vector_layers.CircleMarker at 0x7eff1f8e8ba8>,\n",
       " <folium.vector_layers.CircleMarker at 0x7eff1fabf3c8>,\n",
       " <folium.vector_layers.CircleMarker at 0x7eff1fabfa58>,\n",
       " <folium.vector_layers.CircleMarker at 0x7eff1fabf198>,\n",
       " <folium.vector_layers.CircleMarker at 0x7eff1fabf4a8>,\n",
       " <folium.vector_layers.CircleMarker at 0x7eff1fa602b0>,\n",
       " <folium.vector_layers.CircleMarker at 0x7eff1fa60898>,\n",
       " <folium.vector_layers.CircleMarker at 0x7eff1fa601d0>,\n",
       " <folium.vector_layers.CircleMarker at 0x7eff1fa60240>,\n",
       " <folium.vector_layers.CircleMarker at 0x7eff1fa604e0>,\n",
       " <folium.vector_layers.CircleMarker at 0x7eff1fa60cf8>,\n",
       " <folium.vector_layers.CircleMarker at 0x7eff1fa60e10>,\n",
       " <folium.vector_layers.CircleMarker at 0x7eff1fa60c88>,\n",
       " <folium.vector_layers.CircleMarker at 0x7eff1fa60a58>,\n",
       " <folium.vector_layers.CircleMarker at 0x7eff1fabf748>,\n",
       " <folium.vector_layers.CircleMarker at 0x7eff1fabf908>,\n",
       " <folium.vector_layers.CircleMarker at 0x7eff1f8e8c88>,\n",
       " <folium.vector_layers.CircleMarker at 0x7eff1f8e8da0>,\n",
       " <folium.vector_layers.CircleMarker at 0x7eff1f8c5cf8>,\n",
       " <folium.vector_layers.CircleMarker at 0x7eff1f8e8320>,\n",
       " <folium.vector_layers.CircleMarker at 0x7eff1f8e8cf8>,\n",
       " <folium.vector_layers.CircleMarker at 0x7eff1f8d6fd0>,\n",
       " <folium.vector_layers.CircleMarker at 0x7eff1fa60d30>,\n",
       " <folium.vector_layers.CircleMarker at 0x7eff1fa60c18>,\n",
       " <folium.vector_layers.CircleMarker at 0x7eff1fa60128>,\n",
       " <folium.vector_layers.CircleMarker at 0x7eff1fa60518>,\n",
       " <folium.vector_layers.CircleMarker at 0x7eff1fa603c8>,\n",
       " <folium.vector_layers.CircleMarker at 0x7eff1fa60be0>,\n",
       " <folium.vector_layers.CircleMarker at 0x7eff1fa60f60>,\n",
       " <folium.vector_layers.CircleMarker at 0x7eff1fa60cc0>,\n",
       " <folium.vector_layers.CircleMarker at 0x7eff1fa602e8>,\n",
       " <folium.vector_layers.CircleMarker at 0x7eff1fa60ac8>,\n",
       " <folium.vector_layers.CircleMarker at 0x7eff1fa60b00>,\n",
       " <folium.vector_layers.CircleMarker at 0x7eff1fa600f0>,\n",
       " <folium.vector_layers.CircleMarker at 0x7eff1fa60f28>,\n",
       " <folium.vector_layers.CircleMarker at 0x7eff1fa60828>,\n",
       " <folium.vector_layers.CircleMarker at 0x7eff1f92fe10>,\n",
       " <folium.vector_layers.CircleMarker at 0x7eff1f8d6668>,\n",
       " <folium.vector_layers.CircleMarker at 0x7eff1f8e8f28>,\n",
       " <folium.vector_layers.CircleMarker at 0x7eff1f8e8b38>,\n",
       " <folium.vector_layers.CircleMarker at 0x7eff1fabffd0>,\n",
       " <folium.vector_layers.CircleMarker at 0x7eff1fabfba8>,\n",
       " <folium.vector_layers.CircleMarker at 0x7eff1fa605f8>,\n",
       " <folium.vector_layers.CircleMarker at 0x7eff1fa60fd0>,\n",
       " <folium.vector_layers.CircleMarker at 0x7eff1fa60400>,\n",
       " <folium.vector_layers.CircleMarker at 0x7eff1fa60160>,\n",
       " <folium.vector_layers.CircleMarker at 0x7eff1fa600b8>,\n",
       " <folium.vector_layers.CircleMarker at 0x7eff1fa604a8>,\n",
       " <folium.vector_layers.CircleMarker at 0x7eff1fa60710>,\n",
       " <folium.vector_layers.CircleMarker at 0x7eff1fa60978>,\n",
       " <folium.vector_layers.CircleMarker at 0x7eff1fa60e48>,\n",
       " <folium.vector_layers.CircleMarker at 0x7eff1fa60e80>,\n",
       " <folium.vector_layers.CircleMarker at 0x7eff1fa605c0>,\n",
       " <folium.vector_layers.CircleMarker at 0x7eff1fa609b0>,\n",
       " <folium.vector_layers.CircleMarker at 0x7eff1f984198>,\n",
       " <folium.vector_layers.CircleMarker at 0x7eff1f9843c8>,\n",
       " <folium.vector_layers.CircleMarker at 0x7eff1fb0eeb8>,\n",
       " <folium.vector_layers.CircleMarker at 0x7eff1fb0e2b0>,\n",
       " <folium.vector_layers.CircleMarker at 0x7eff1f984240>,\n",
       " <folium.vector_layers.CircleMarker at 0x7eff1f8e89b0>,\n",
       " <folium.vector_layers.CircleMarker at 0x7eff1f8e87f0>,\n",
       " <folium.vector_layers.CircleMarker at 0x7eff1fabf358>,\n",
       " <folium.vector_layers.CircleMarker at 0x7eff1fa60da0>,\n",
       " <folium.vector_layers.CircleMarker at 0x7eff1fa60080>,\n",
       " <folium.vector_layers.CircleMarker at 0x7eff1fa607f0>,\n",
       " <folium.vector_layers.CircleMarker at 0x7eff1fa60358>,\n",
       " <folium.vector_layers.CircleMarker at 0x7eff1fa60780>,\n",
       " <folium.vector_layers.CircleMarker at 0x7eff1fa60588>,\n",
       " <folium.vector_layers.CircleMarker at 0x7eff1f8d65f8>,\n",
       " <folium.vector_layers.CircleMarker at 0x7eff1fa60ba8>,\n",
       " <folium.vector_layers.CircleMarker at 0x7eff1fa60470>,\n",
       " <folium.vector_layers.CircleMarker at 0x7eff1fb0e6a0>,\n",
       " <folium.vector_layers.CircleMarker at 0x7eff1fb0ee80>,\n",
       " <folium.vector_layers.CircleMarker at 0x7eff1fb0ec88>,\n",
       " <folium.vector_layers.CircleMarker at 0x7eff1fb5fb00>,\n",
       " <folium.vector_layers.CircleMarker at 0x7eff1fb0ec18>,\n",
       " <folium.vector_layers.CircleMarker at 0x7eff32835f60>,\n",
       " <folium.vector_layers.CircleMarker at 0x7eff1fb0ee48>,\n",
       " <folium.vector_layers.CircleMarker at 0x7eff1fb0e860>,\n",
       " <folium.vector_layers.CircleMarker at 0x7eff32835ef0>,\n",
       " <folium.vector_layers.CircleMarker at 0x7eff1fb0e6d8>,\n",
       " <folium.vector_layers.CircleMarker at 0x7eff1f8d6da0>,\n",
       " <folium.vector_layers.CircleMarker at 0x7eff1fb0e160>,\n",
       " <folium.vector_layers.CircleMarker at 0x7eff1fb0e0b8>,\n",
       " <folium.vector_layers.CircleMarker at 0x7eff1fb0eda0>,\n",
       " <folium.vector_layers.CircleMarker at 0x7eff1fa60940>,\n",
       " <folium.vector_layers.CircleMarker at 0x7eff1fa60198>,\n",
       " <folium.vector_layers.CircleMarker at 0x7eff1fabfeb8>,\n",
       " <folium.vector_layers.CircleMarker at 0x7eff1f8e89e8>,\n",
       " <folium.vector_layers.CircleMarker at 0x7eff1f984048>,\n",
       " <folium.vector_layers.CircleMarker at 0x7eff1fa60748>,\n",
       " <folium.vector_layers.CircleMarker at 0x7eff1fa60320>,\n",
       " <folium.vector_layers.CircleMarker at 0x7eff1fb13f60>,\n",
       " <folium.vector_layers.CircleMarker at 0x7eff1fb13ac8>,\n",
       " <folium.vector_layers.CircleMarker at 0x7eff1fa60ef0>,\n",
       " <folium.vector_layers.CircleMarker at 0x7eff1f9c6128>,\n",
       " <folium.vector_layers.CircleMarker at 0x7eff1f9c64a8>,\n",
       " <folium.vector_layers.CircleMarker at 0x7eff1f9c66a0>,\n",
       " <folium.vector_layers.CircleMarker at 0x7eff1f9c6710>,\n",
       " <folium.vector_layers.CircleMarker at 0x7eff1f9c6438>,\n",
       " <folium.vector_layers.CircleMarker at 0x7eff1f9c6780>,\n",
       " <folium.vector_layers.CircleMarker at 0x7eff1fb13860>,\n",
       " <folium.vector_layers.CircleMarker at 0x7eff1fabf668>,\n",
       " <folium.vector_layers.CircleMarker at 0x7eff1f984160>,\n",
       " <folium.vector_layers.CircleMarker at 0x7eff1f8d63c8>,\n",
       " <folium.vector_layers.CircleMarker at 0x7eff1fa60a20>,\n",
       " <folium.vector_layers.CircleMarker at 0x7eff1fa60dd8>,\n",
       " <folium.vector_layers.CircleMarker at 0x7eff1fa609e8>,\n",
       " <folium.vector_layers.CircleMarker at 0x7eff1fb0e9b0>,\n",
       " <folium.vector_layers.CircleMarker at 0x7eff1fb0e4a8>,\n",
       " <folium.vector_layers.CircleMarker at 0x7eff1fb0e128>,\n",
       " <folium.vector_layers.CircleMarker at 0x7eff1f9c6748>,\n",
       " <folium.vector_layers.CircleMarker at 0x7eff1f9c67f0>,\n",
       " <folium.vector_layers.CircleMarker at 0x7eff1f9c6240>,\n",
       " <folium.vector_layers.CircleMarker at 0x7eff1f9c6a90>,\n",
       " <folium.vector_layers.CircleMarker at 0x7eff1f9c6198>,\n",
       " <folium.vector_layers.CircleMarker at 0x7eff1f9c6c50>,\n",
       " <folium.vector_layers.CircleMarker at 0x7eff1f9c6b00>,\n",
       " <folium.vector_layers.CircleMarker at 0x7eff1f9c6080>,\n",
       " <folium.vector_layers.CircleMarker at 0x7eff1f9c6668>,\n",
       " <folium.vector_layers.CircleMarker at 0x7eff1f9c6ef0>,\n",
       " <folium.vector_layers.CircleMarker at 0x7eff1f9c6d68>,\n",
       " <folium.vector_layers.CircleMarker at 0x7eff1f9c64e0>,\n",
       " <folium.vector_layers.CircleMarker at 0x7eff1fb0e668>,\n",
       " <folium.vector_layers.CircleMarker at 0x7eff1fb0ed68>,\n",
       " <folium.vector_layers.CircleMarker at 0x7eff1f9842e8>,\n",
       " <folium.vector_layers.CircleMarker at 0x7eff1fb13dd8>,\n",
       " <folium.vector_layers.CircleMarker at 0x7eff1fa608d0>,\n",
       " <folium.vector_layers.CircleMarker at 0x7eff1fa607b8>,\n",
       " <folium.vector_layers.CircleMarker at 0x7eff1fa60eb8>,\n",
       " <folium.vector_layers.CircleMarker at 0x7eff1f9c6908>,\n",
       " <folium.vector_layers.CircleMarker at 0x7eff1f9c6c88>,\n",
       " <folium.vector_layers.CircleMarker at 0x7eff1f9c6208>,\n",
       " <folium.vector_layers.CircleMarker at 0x7eff1f9c60f0>,\n",
       " <folium.vector_layers.CircleMarker at 0x7eff1f9c65c0>,\n",
       " <folium.vector_layers.CircleMarker at 0x7eff1f9c6358>,\n",
       " <folium.vector_layers.CircleMarker at 0x7eff1f9c6390>,\n",
       " <folium.vector_layers.CircleMarker at 0x7eff1f9c6b70>,\n",
       " <folium.vector_layers.CircleMarker at 0x7eff1f9c60b8>,\n",
       " <folium.vector_layers.CircleMarker at 0x7eff1f9c6518>,\n",
       " <folium.vector_layers.CircleMarker at 0x7eff1f9c6a58>,\n",
       " <folium.vector_layers.CircleMarker at 0x7eff1f9c6e10>,\n",
       " <folium.vector_layers.CircleMarker at 0x7eff1f9c6eb8>,\n",
       " <folium.vector_layers.CircleMarker at 0x7eff1f9c67b8>,\n",
       " <folium.vector_layers.CircleMarker at 0x7eff1f9c6f60>,\n",
       " <folium.vector_layers.CircleMarker at 0x7eff1f8e8668>,\n",
       " <folium.vector_layers.CircleMarker at 0x7eff1fb0ef98>,\n",
       " <folium.vector_layers.CircleMarker at 0x7eff1fb0ef28>,\n",
       " <folium.vector_layers.CircleMarker at 0x7eff1fa60f98>,\n",
       " <folium.vector_layers.CircleMarker at 0x7eff1f9c6278>,\n",
       " <folium.vector_layers.CircleMarker at 0x7eff1f9c6828>,\n",
       " <folium.vector_layers.CircleMarker at 0x7eff1f9c6ba8>,\n",
       " <folium.vector_layers.CircleMarker at 0x7eff1f9c6c18>,\n",
       " <folium.vector_layers.CircleMarker at 0x7eff1f9c6b38>,\n",
       " <folium.vector_layers.CircleMarker at 0x7eff1f9c65f8>,\n",
       " <folium.vector_layers.CircleMarker at 0x7eff1f9c6cc0>,\n",
       " <folium.vector_layers.CircleMarker at 0x7eff1f9c6be0>,\n",
       " <folium.vector_layers.CircleMarker at 0x7eff1f9c63c8>,\n",
       " <folium.vector_layers.CircleMarker at 0x7eff1f9c6860>,\n",
       " <folium.vector_layers.CircleMarker at 0x7eff1f9c6dd8>,\n",
       " <folium.vector_layers.CircleMarker at 0x7eff1f9db358>,\n",
       " <folium.vector_layers.CircleMarker at 0x7eff1f9db4a8>,\n",
       " <folium.vector_layers.CircleMarker at 0x7eff1f9db6a0>,\n",
       " <folium.vector_layers.CircleMarker at 0x7eff1f9db4e0>,\n",
       " <folium.vector_layers.CircleMarker at 0x7eff1f9db198>,\n",
       " <folium.vector_layers.CircleMarker at 0x7eff1f9db780>,\n",
       " <folium.vector_layers.CircleMarker at 0x7eff1f9dba90>,\n",
       " <folium.vector_layers.CircleMarker at 0x7eff1f9c6e48>,\n",
       " <folium.vector_layers.CircleMarker at 0x7eff1f9c6978>,\n",
       " <folium.vector_layers.CircleMarker at 0x7eff1f9c6048>,\n",
       " <folium.vector_layers.CircleMarker at 0x7eff1f9c6cf8>,\n",
       " <folium.vector_layers.CircleMarker at 0x7eff1fb0e550>,\n",
       " <folium.vector_layers.CircleMarker at 0x7eff1f9c6f98>,\n",
       " <folium.vector_layers.CircleMarker at 0x7eff1f92f550>,\n",
       " <folium.vector_layers.CircleMarker at 0x7eff1fa60d68>,\n",
       " <folium.vector_layers.CircleMarker at 0x7eff1fa60b70>,\n",
       " <folium.vector_layers.CircleMarker at 0x7eff1f9c62e8>,\n",
       " <folium.vector_layers.CircleMarker at 0x7eff1f9db550>,\n",
       " <folium.vector_layers.CircleMarker at 0x7eff1f9db160>,\n",
       " <folium.vector_layers.CircleMarker at 0x7eff1f9db470>,\n",
       " <folium.vector_layers.CircleMarker at 0x7eff1f9dbc88>,\n",
       " <folium.vector_layers.CircleMarker at 0x7eff1f9db9b0>,\n",
       " <folium.vector_layers.CircleMarker at 0x7eff1f9db978>,\n",
       " <folium.vector_layers.CircleMarker at 0x7eff1f9db0b8>,\n",
       " <folium.vector_layers.CircleMarker at 0x7eff1f9db2e8>,\n",
       " <folium.vector_layers.CircleMarker at 0x7eff1f9dbe80>,\n",
       " <folium.vector_layers.CircleMarker at 0x7eff1f9db7b8>,\n",
       " <folium.vector_layers.CircleMarker at 0x7eff1f9dbdd8>,\n",
       " <folium.vector_layers.CircleMarker at 0x7eff1f9db940>,\n",
       " <folium.vector_layers.CircleMarker at 0x7eff1fa60908>,\n",
       " <folium.vector_layers.CircleMarker at 0x7eff1f9c66d8>,\n",
       " <folium.vector_layers.CircleMarker at 0x7eff1f9c69b0>,\n",
       " <folium.vector_layers.CircleMarker at 0x7eff1f9c62b0>,\n",
       " <folium.vector_layers.CircleMarker at 0x7eff1f9c6630>,\n",
       " <folium.vector_layers.CircleMarker at 0x7eff1f9c6fd0>,\n",
       " <folium.vector_layers.CircleMarker at 0x7eff1f9dbd68>,\n",
       " <folium.vector_layers.CircleMarker at 0x7eff1f9dbf60>,\n",
       " <folium.vector_layers.CircleMarker at 0x7eff1f9db710>,\n",
       " <folium.vector_layers.CircleMarker at 0x7eff1f9db208>,\n",
       " <folium.vector_layers.CircleMarker at 0x7eff1f9dbd30>,\n",
       " <folium.vector_layers.CircleMarker at 0x7eff1f9db898>,\n",
       " <folium.vector_layers.CircleMarker at 0x7eff1f9db240>,\n",
       " <folium.vector_layers.CircleMarker at 0x7eff1f9dbbe0>,\n",
       " <folium.vector_layers.CircleMarker at 0x7eff1f9dbb70>,\n",
       " <folium.vector_layers.CircleMarker at 0x7eff1f9dba58>,\n",
       " <folium.vector_layers.CircleMarker at 0x7eff1f9db278>,\n",
       " <folium.vector_layers.CircleMarker at 0x7eff1f9dbc18>,\n",
       " <folium.vector_layers.CircleMarker at 0x7eff1f9dba20>,\n",
       " <folium.vector_layers.CircleMarker at 0x7eff1f9dbfd0>,\n",
       " <folium.vector_layers.CircleMarker at 0x7eff1f9db518>,\n",
       " <folium.vector_layers.CircleMarker at 0x7eff1f9c6898>,\n",
       " <folium.vector_layers.CircleMarker at 0x7eff1fa606d8>,\n",
       " <folium.vector_layers.CircleMarker at 0x7eff1fb0ef60>,\n",
       " <folium.vector_layers.CircleMarker at 0x7eff1f9c6588>,\n",
       " <folium.vector_layers.CircleMarker at 0x7eff1f9c6d30>,\n",
       " <folium.vector_layers.CircleMarker at 0x7eff1f9db5c0>,\n",
       " <folium.vector_layers.CircleMarker at 0x7eff1f9dbef0>,\n",
       " <folium.vector_layers.CircleMarker at 0x7eff1f9db748>,\n",
       " <folium.vector_layers.CircleMarker at 0x7eff1f9dbda0>,\n",
       " <folium.vector_layers.CircleMarker at 0x7eff1f9db908>,\n",
       " <folium.vector_layers.CircleMarker at 0x7eff1f9db048>,\n",
       " <folium.vector_layers.CircleMarker at 0x7eff1f9db128>,\n",
       " <folium.vector_layers.CircleMarker at 0x7eff1f9dbe48>,\n",
       " <folium.vector_layers.CircleMarker at 0x7eff1f9db828>,\n",
       " <folium.vector_layers.CircleMarker at 0x7eff1f9db2b0>,\n",
       " <folium.vector_layers.CircleMarker at 0x7eff1f9ef438>,\n",
       " <folium.vector_layers.CircleMarker at 0x7eff1f9ef630>,\n",
       " <folium.vector_layers.CircleMarker at 0x7eff1f9ef128>,\n",
       " <folium.vector_layers.CircleMarker at 0x7eff1f9ef780>,\n",
       " <folium.vector_layers.CircleMarker at 0x7eff1f9ef8d0>,\n",
       " <folium.vector_layers.CircleMarker at 0x7eff1f9efac8>,\n",
       " <folium.vector_layers.CircleMarker at 0x7eff1f9efa58>,\n",
       " <folium.vector_layers.CircleMarker at 0x7eff1f9dbf98>,\n",
       " <folium.vector_layers.CircleMarker at 0x7eff1f9dbb00>,\n",
       " <folium.vector_layers.CircleMarker at 0x7eff1f9dbe10>,\n",
       " <folium.vector_layers.CircleMarker at 0x7eff1f9db0f0>,\n",
       " <folium.vector_layers.CircleMarker at 0x7eff1fa60438>,\n",
       " <folium.vector_layers.CircleMarker at 0x7eff1f9db668>,\n",
       " <folium.vector_layers.CircleMarker at 0x7eff1f9dbeb8>,\n",
       " <folium.vector_layers.CircleMarker at 0x7eff1f9dbf28>,\n",
       " <folium.vector_layers.CircleMarker at 0x7eff1f9c6550>,\n",
       " <folium.vector_layers.CircleMarker at 0x7eff1f9c6e80>,\n",
       " <folium.vector_layers.CircleMarker at 0x7eff1fb13240>,\n",
       " <folium.vector_layers.CircleMarker at 0x7eff1f9c69e8>,\n",
       " <folium.vector_layers.CircleMarker at 0x7eff1f9c6ac8>,\n",
       " <folium.vector_layers.CircleMarker at 0x7eff1f9ef6d8>,\n",
       " <folium.vector_layers.CircleMarker at 0x7eff1f9ef390>,\n",
       " <folium.vector_layers.CircleMarker at 0x7eff1f9ef588>,\n",
       " <folium.vector_layers.CircleMarker at 0x7eff1f9ef978>,\n",
       " <folium.vector_layers.CircleMarker at 0x7eff1f9ef7b8>,\n",
       " <folium.vector_layers.CircleMarker at 0x7eff1f9ef470>,\n",
       " <folium.vector_layers.CircleMarker at 0x7eff1f9ef358>,\n",
       " <folium.vector_layers.CircleMarker at 0x7eff1f9efe10>,\n",
       " <folium.vector_layers.CircleMarker at 0x7eff1f9efef0>,\n",
       " <folium.vector_layers.CircleMarker at 0x7eff1fb13f98>,\n",
       " <folium.vector_layers.CircleMarker at 0x7eff1f9c6400>,\n",
       " <folium.vector_layers.CircleMarker at 0x7eff1f9c6a20>,\n",
       " <folium.vector_layers.CircleMarker at 0x7eff1f9c6f28>,\n",
       " <folium.vector_layers.CircleMarker at 0x7eff1f9db400>,\n",
       " <folium.vector_layers.CircleMarker at 0x7eff1f9db438>,\n",
       " <folium.vector_layers.CircleMarker at 0x7eff1f9db5f8>,\n",
       " <folium.vector_layers.CircleMarker at 0x7eff1f9dbcc0>,\n",
       " <folium.vector_layers.CircleMarker at 0x7eff1f9efcc0>,\n",
       " <folium.vector_layers.CircleMarker at 0x7eff1f9efa90>,\n",
       " <folium.vector_layers.CircleMarker at 0x7eff1f9ef550>,\n",
       " <folium.vector_layers.CircleMarker at 0x7eff1f9efa20>,\n",
       " <folium.vector_layers.CircleMarker at 0x7eff1f9ef4e0>,\n",
       " <folium.vector_layers.CircleMarker at 0x7eff1f9ef518>,\n",
       " <folium.vector_layers.CircleMarker at 0x7eff1f9efeb8>,\n",
       " <folium.vector_layers.CircleMarker at 0x7eff1f9ef2b0>,\n",
       " <folium.vector_layers.CircleMarker at 0x7eff1f9efb38>,\n",
       " <folium.vector_layers.CircleMarker at 0x7eff1f9ef208>,\n",
       " <folium.vector_layers.CircleMarker at 0x7eff1f9efda0>,\n",
       " <folium.vector_layers.CircleMarker at 0x7eff1f9efc88>,\n",
       " <folium.vector_layers.CircleMarker at 0x7eff1faa4358>,\n",
       " <folium.vector_layers.CircleMarker at 0x7eff1faa4278>,\n",
       " <folium.vector_layers.CircleMarker at 0x7eff1f9efb70>,\n",
       " <folium.vector_layers.CircleMarker at 0x7eff1f9ef5f8>,\n",
       " <folium.vector_layers.CircleMarker at 0x7eff1f9ef710>,\n",
       " <folium.vector_layers.CircleMarker at 0x7eff1f9ef898>,\n",
       " <folium.vector_layers.CircleMarker at 0x7eff1f9ef0f0>,\n",
       " <folium.vector_layers.CircleMarker at 0x7eff1f9ef3c8>,\n",
       " <folium.vector_layers.CircleMarker at 0x7eff1f9eff60>,\n",
       " <folium.vector_layers.CircleMarker at 0x7eff1f9ef240>,\n",
       " <folium.vector_layers.CircleMarker at 0x7eff1f9db860>,\n",
       " <folium.vector_layers.CircleMarker at 0x7eff1fb0e470>,\n",
       " <folium.vector_layers.CircleMarker at 0x7eff1f9c61d0>,\n",
       " <folium.vector_layers.CircleMarker at 0x7eff1f9c6940>,\n",
       " <folium.vector_layers.CircleMarker at 0x7eff1f9db6d8>,\n",
       " <folium.vector_layers.CircleMarker at 0x7eff1faa42b0>,\n",
       " <folium.vector_layers.CircleMarker at 0x7eff1faa4198>,\n",
       " <folium.vector_layers.CircleMarker at 0x7eff1faa48d0>,\n",
       " <folium.vector_layers.CircleMarker at 0x7eff1faa47f0>,\n",
       " <folium.vector_layers.CircleMarker at 0x7eff1faa4400>,\n",
       " <folium.vector_layers.CircleMarker at 0x7eff1faa4860>,\n",
       " <folium.vector_layers.CircleMarker at 0x7eff1faa4b70>,\n",
       " <folium.vector_layers.CircleMarker at 0x7eff1faa4d68>,\n",
       " <folium.vector_layers.CircleMarker at 0x7eff1faa4be0>,\n",
       " <folium.vector_layers.CircleMarker at 0x7eff1f9c6da0>,\n",
       " <folium.vector_layers.CircleMarker at 0x7eff1f9dbb38>,\n",
       " <folium.vector_layers.CircleMarker at 0x7eff1f9db7f0>,\n",
       " <folium.vector_layers.CircleMarker at 0x7eff1f9dbc50>,\n",
       " <folium.vector_layers.CircleMarker at 0x7eff1f9ef160>,\n",
       " <folium.vector_layers.CircleMarker at 0x7eff1f9ef9b0>,\n",
       " <folium.vector_layers.CircleMarker at 0x7eff1f9ef400>,\n",
       " <folium.vector_layers.CircleMarker at 0x7eff1f9efcf8>,\n",
       " <folium.vector_layers.CircleMarker at 0x7eff1faa4a90>,\n",
       " <folium.vector_layers.CircleMarker at 0x7eff1faa4ac8>,\n",
       " <folium.vector_layers.CircleMarker at 0x7eff1faa43c8>,\n",
       " <folium.vector_layers.CircleMarker at 0x7eff1faa4208>,\n",
       " <folium.vector_layers.CircleMarker at 0x7eff1faa46d8>,\n",
       " <folium.vector_layers.CircleMarker at 0x7eff1faa45c0>,\n",
       " <folium.vector_layers.CircleMarker at 0x7eff1faa4e10>,\n",
       " <folium.vector_layers.CircleMarker at 0x7eff1faa4da0>,\n",
       " <folium.vector_layers.CircleMarker at 0x7eff1faa4fd0>,\n",
       " <folium.vector_layers.CircleMarker at 0x7eff1faa4f98>,\n",
       " <folium.vector_layers.CircleMarker at 0x7eff1faa4a20>,\n",
       " <folium.vector_layers.CircleMarker at 0x7eff1faa4cf8>,\n",
       " <folium.vector_layers.CircleMarker at 0x7eff1faa44a8>,\n",
       " <folium.vector_layers.CircleMarker at 0x7eff1faa4f28>,\n",
       " <folium.vector_layers.CircleMarker at 0x7eff1f9ef0b8>,\n",
       " <folium.vector_layers.CircleMarker at 0x7eff1fb130f0>,\n",
       " <folium.vector_layers.CircleMarker at 0x7eff1f9ef668>,\n",
       " <folium.vector_layers.CircleMarker at 0x7eff1f9ef080>,\n",
       " <folium.vector_layers.CircleMarker at 0x7eff1f9db9e8>,\n",
       " <folium.vector_layers.CircleMarker at 0x7eff1faa41d0>,\n",
       " <folium.vector_layers.CircleMarker at 0x7eff1faa4908>,\n",
       " <folium.vector_layers.CircleMarker at 0x7eff1faa4c50>,\n",
       " <folium.vector_layers.CircleMarker at 0x7eff1faa4240>,\n",
       " <folium.vector_layers.CircleMarker at 0x7eff1faa40b8>,\n",
       " <folium.vector_layers.CircleMarker at 0x7eff1faa4518>,\n",
       " <folium.vector_layers.CircleMarker at 0x7eff1faa4128>,\n",
       " <folium.vector_layers.CircleMarker at 0x7eff1faa4cc0>,\n",
       " <folium.vector_layers.CircleMarker at 0x7eff1faa4710>,\n",
       " <folium.vector_layers.CircleMarker at 0x7eff1faa4898>,\n",
       " <folium.vector_layers.CircleMarker at 0x7eff1faa4438>,\n",
       " <folium.vector_layers.CircleMarker at 0x7eff1faa4ba8>,\n",
       " <folium.vector_layers.CircleMarker at 0x7eff1faa4080>,\n",
       " <folium.vector_layers.CircleMarker at 0x7eff50736240>,\n",
       " <folium.vector_layers.CircleMarker at 0x7eff1faa4160>,\n",
       " <folium.vector_layers.CircleMarker at 0x7eff1faa4940>,\n",
       " <folium.vector_layers.CircleMarker at 0x7eff1f88a128>,\n",
       " <folium.vector_layers.CircleMarker at 0x7eff50736470>,\n",
       " <folium.vector_layers.CircleMarker at 0x7eff1faa4e80>,\n",
       " <folium.vector_layers.CircleMarker at 0x7eff1faa4d30>,\n",
       " <folium.vector_layers.CircleMarker at 0x7eff1faa49b0>,\n",
       " <folium.vector_layers.CircleMarker at 0x7eff1faa42e8>,\n",
       " <folium.vector_layers.CircleMarker at 0x7eff1faa46a0>,\n",
       " <folium.vector_layers.CircleMarker at 0x7eff1faa49e8>,\n",
       " <folium.vector_layers.CircleMarker at 0x7eff1faa4470>,\n",
       " <folium.vector_layers.CircleMarker at 0x7eff1faa45f8>,\n",
       " <folium.vector_layers.CircleMarker at 0x7eff1faa4748>,\n",
       " <folium.vector_layers.CircleMarker at 0x7eff1f9dbcf8>,\n",
       " <folium.vector_layers.CircleMarker at 0x7eff1f9ef278>,\n",
       " <folium.vector_layers.CircleMarker at 0x7eff1f9ef048>,\n",
       " <folium.vector_layers.CircleMarker at 0x7eff1f88a0b8>,\n",
       " <folium.vector_layers.CircleMarker at 0x7eff1f88a240>,\n",
       " <folium.vector_layers.CircleMarker at 0x7eff1f88a320>,\n",
       " <folium.vector_layers.CircleMarker at 0x7eff1f88a358>,\n",
       " <folium.vector_layers.CircleMarker at 0x7eff1f88a400>,\n",
       " <folium.vector_layers.CircleMarker at 0x7eff1f88a4a8>,\n",
       " <folium.vector_layers.CircleMarker at 0x7eff1f88a550>,\n",
       " <folium.vector_layers.CircleMarker at 0x7eff1f88a5f8>,\n",
       " <folium.vector_layers.CircleMarker at 0x7eff1f88a6a0>,\n",
       " <folium.vector_layers.CircleMarker at 0x7eff1f9dbac8>,\n",
       " <folium.vector_layers.CircleMarker at 0x7eff1f9efbe0>,\n",
       " <folium.vector_layers.CircleMarker at 0x7eff1faa40f0>,\n",
       " <folium.vector_layers.CircleMarker at 0x7eff1faa4978>,\n",
       " <folium.vector_layers.CircleMarker at 0x7eff1faa44e0>,\n",
       " <folium.vector_layers.CircleMarker at 0x7eff50736630>,\n",
       " <folium.vector_layers.CircleMarker at 0x7eff1faa4f60>,\n",
       " <folium.vector_layers.CircleMarker at 0x7eff1faa4eb8>,\n",
       " <folium.vector_layers.CircleMarker at 0x7eff1faa4588>,\n",
       " <folium.vector_layers.CircleMarker at 0x7eff1f88a5c0>,\n",
       " <folium.vector_layers.CircleMarker at 0x7eff1f88a470>,\n",
       " <folium.vector_layers.CircleMarker at 0x7eff1f88a278>,\n",
       " <folium.vector_layers.CircleMarker at 0x7eff1f88a2b0>,\n",
       " <folium.vector_layers.CircleMarker at 0x7eff1f88a198>,\n",
       " <folium.vector_layers.CircleMarker at 0x7eff1f88a7b8>,\n",
       " <folium.vector_layers.CircleMarker at 0x7eff1f88a7f0>,\n",
       " <folium.vector_layers.CircleMarker at 0x7eff1f88a6d8>,\n",
       " <folium.vector_layers.CircleMarker at 0x7eff1f88a8d0>,\n",
       " <folium.vector_layers.CircleMarker at 0x7eff1f88a978>,\n",
       " <folium.vector_layers.CircleMarker at 0x7eff1f88aa20>,\n",
       " <folium.vector_layers.CircleMarker at 0x7eff1f88aac8>,\n",
       " <folium.vector_layers.CircleMarker at 0x7eff1faa4828>,\n",
       " <folium.vector_layers.CircleMarker at 0x7eff1f9db630>,\n",
       " <folium.vector_layers.CircleMarker at 0x7eff1f9ef748>,\n",
       " <folium.vector_layers.CircleMarker at 0x7eff1faa4780>,\n",
       " <folium.vector_layers.CircleMarker at 0x7eff1faa4390>,\n",
       " <folium.vector_layers.CircleMarker at 0x7eff1faa4dd8>,\n",
       " <folium.vector_layers.CircleMarker at 0x7eff1f88ab70>,\n",
       " <folium.vector_layers.CircleMarker at 0x7eff1f88a9e8>,\n",
       " <folium.vector_layers.CircleMarker at 0x7eff1f88a898>,\n",
       " <folium.vector_layers.CircleMarker at 0x7eff1f88a208>,\n",
       " <folium.vector_layers.CircleMarker at 0x7eff1f88a748>,\n",
       " <folium.vector_layers.CircleMarker at 0x7eff1f88a390>,\n",
       " <folium.vector_layers.CircleMarker at 0x7eff1f88a3c8>,\n",
       " <folium.vector_layers.CircleMarker at 0x7eff1f88a668>,\n",
       " <folium.vector_layers.CircleMarker at 0x7eff1f88aa58>,\n",
       " <folium.vector_layers.CircleMarker at 0x7eff1f88ac88>,\n",
       " <folium.vector_layers.CircleMarker at 0x7eff1f88acc0>,\n",
       " <folium.vector_layers.CircleMarker at 0x7eff1f88ad68>,\n",
       " <folium.vector_layers.CircleMarker at 0x7eff1f88ae10>,\n",
       " <folium.vector_layers.CircleMarker at 0x7eff1f88aeb8>,\n",
       " <folium.vector_layers.CircleMarker at 0x7eff1f88af60>,\n",
       " <folium.vector_layers.CircleMarker at 0x7eff1f88aef0>,\n",
       " <folium.vector_layers.CircleMarker at 0x7eff1f9efc18>,\n",
       " <folium.vector_layers.CircleMarker at 0x7eff1faa4c18>,\n",
       " <folium.vector_layers.CircleMarker at 0x7eff1faa4c88>,\n",
       " <folium.vector_layers.CircleMarker at 0x7eff1faa4048>,\n",
       " <folium.vector_layers.CircleMarker at 0x7eff1f88af28>,\n",
       " <folium.vector_layers.CircleMarker at 0x7eff1f88add8>,\n",
       " <folium.vector_layers.CircleMarker at 0x7eff1f88a710>,\n",
       " <folium.vector_layers.CircleMarker at 0x7eff1f88ac50>,\n",
       " <folium.vector_layers.CircleMarker at 0x7eff1f88a0f0>,\n",
       " <folium.vector_layers.CircleMarker at 0x7eff1f88a438>,\n",
       " <folium.vector_layers.CircleMarker at 0x7eff1f88a828>,\n",
       " <folium.vector_layers.CircleMarker at 0x7eff1f88a860>,\n",
       " <folium.vector_layers.CircleMarker at 0x7eff1f88aa90>,\n",
       " <folium.vector_layers.CircleMarker at 0x7eff1f88a780>,\n",
       " <folium.vector_layers.CircleMarker at 0x7eff1f89d048>,\n",
       " <folium.vector_layers.CircleMarker at 0x7eff1f89d128>,\n",
       " <folium.vector_layers.CircleMarker at 0x7eff1f89d240>,\n",
       " <folium.vector_layers.CircleMarker at 0x7eff1f89d2e8>,\n",
       " <folium.vector_layers.CircleMarker at 0x7eff1f89d390>,\n",
       " <folium.vector_layers.CircleMarker at 0x7eff1f89d438>,\n",
       " <folium.vector_layers.CircleMarker at 0x7eff1f89d4e0>,\n",
       " <folium.vector_layers.CircleMarker at 0x7eff1f89d588>,\n",
       " <folium.vector_layers.CircleMarker at 0x7eff1f88ae48>,\n",
       " <folium.vector_layers.CircleMarker at 0x7eff1f88a940>,\n",
       " <folium.vector_layers.CircleMarker at 0x7eff1f88a4e0>,\n",
       " <folium.vector_layers.CircleMarker at 0x7eff1f88aba8>,\n",
       " <folium.vector_layers.CircleMarker at 0x7eff1f88ada0>,\n",
       " <folium.vector_layers.CircleMarker at 0x7eff1f9db1d0>,\n",
       " <folium.vector_layers.CircleMarker at 0x7eff1f88a048>,\n",
       " <folium.vector_layers.CircleMarker at 0x7eff1faa4630>,\n",
       " <folium.vector_layers.CircleMarker at 0x7eff1faa4668>,\n",
       " <folium.vector_layers.CircleMarker at 0x7eff1f89d3c8>,\n",
       " <folium.vector_layers.CircleMarker at 0x7eff1f89d400>,\n",
       " <folium.vector_layers.CircleMarker at 0x7eff1f89d2b0>,\n",
       " <folium.vector_layers.CircleMarker at 0x7eff1f89d0f0>,\n",
       " <folium.vector_layers.CircleMarker at 0x7eff1f89d630>,\n",
       " <folium.vector_layers.CircleMarker at 0x7eff1f89d518>,\n",
       " <folium.vector_layers.CircleMarker at 0x7eff1f89d748>,\n",
       " <folium.vector_layers.CircleMarker at 0x7eff1f89d780>,\n",
       " <folium.vector_layers.CircleMarker at 0x7eff1f89d828>,\n",
       " <folium.vector_layers.CircleMarker at 0x7eff1f89d8d0>,\n",
       " <folium.vector_layers.CircleMarker at 0x7eff1f89d978>,\n",
       " <folium.vector_layers.CircleMarker at 0x7eff1f89da20>,\n",
       " <folium.vector_layers.CircleMarker at 0x7eff1f89dac8>,\n",
       " <folium.vector_layers.CircleMarker at 0x7eff1faa47b8>,\n",
       " <folium.vector_layers.CircleMarker at 0x7eff1f88afd0>,\n",
       " <folium.vector_layers.CircleMarker at 0x7eff1f88a630>,\n",
       " <folium.vector_layers.CircleMarker at 0x7eff1f88ac18>,\n",
       " <folium.vector_layers.CircleMarker at 0x7eff1f88a588>,\n",
       " <folium.vector_layers.CircleMarker at 0x7eff1f88a2e8>,\n",
       " <folium.vector_layers.CircleMarker at 0x7eff1f89d9e8>,\n",
       " <folium.vector_layers.CircleMarker at 0x7eff1f89d898>,\n",
       " <folium.vector_layers.CircleMarker at 0x7eff1f89d6a0>,\n",
       " <folium.vector_layers.CircleMarker at 0x7eff1f89d710>,\n",
       " <folium.vector_layers.CircleMarker at 0x7eff1f89d160>,\n",
       " <folium.vector_layers.CircleMarker at 0x7eff1f89d198>,\n",
       " <folium.vector_layers.CircleMarker at 0x7eff1f89d4a8>,\n",
       " <folium.vector_layers.CircleMarker at 0x7eff1f89db70>,\n",
       " <folium.vector_layers.CircleMarker at 0x7eff1f89da58>,\n",
       " <folium.vector_layers.CircleMarker at 0x7eff1f89dc88>,\n",
       " <folium.vector_layers.CircleMarker at 0x7eff1f89dcc0>,\n",
       " <folium.vector_layers.CircleMarker at 0x7eff1f89dd68>,\n",
       " <folium.vector_layers.CircleMarker at 0x7eff1f89de10>,\n",
       " <folium.vector_layers.CircleMarker at 0x7eff1f89deb8>,\n",
       " <folium.vector_layers.CircleMarker at 0x7eff1f89df60>,\n",
       " <folium.vector_layers.CircleMarker at 0x7eff1f89def0>,\n",
       " <folium.vector_layers.CircleMarker at 0x7eff1f88ab00>,\n",
       " <folium.vector_layers.CircleMarker at 0x7eff1faa4b38>,\n",
       " <folium.vector_layers.CircleMarker at 0x7eff1f88acf8>,\n",
       " <folium.vector_layers.CircleMarker at 0x7eff1f88ae80>,\n",
       " <folium.vector_layers.CircleMarker at 0x7eff1f89dcf8>,\n",
       " <folium.vector_layers.CircleMarker at 0x7eff1f89dc18>,\n",
       " <folium.vector_layers.CircleMarker at 0x7eff1f89d320>,\n",
       " <folium.vector_layers.CircleMarker at 0x7eff1f89d0b8>,\n",
       " <folium.vector_layers.CircleMarker at 0x7eff1f89d9b0>,\n",
       " <folium.vector_layers.CircleMarker at 0x7eff1f89d208>,\n",
       " <folium.vector_layers.CircleMarker at 0x7eff1f89d668>,\n",
       " <folium.vector_layers.CircleMarker at 0x7eff1f89d860>,\n",
       " <folium.vector_layers.CircleMarker at 0x7eff1f89d940>,\n",
       " <folium.vector_layers.CircleMarker at 0x7eff1f89d7f0>,\n",
       " <folium.vector_layers.CircleMarker at 0x7eff1f8ad048>,\n",
       " <folium.vector_layers.CircleMarker at 0x7eff1f8ad160>,\n",
       " <folium.vector_layers.CircleMarker at 0x7eff1f8ad240>,\n",
       " <folium.vector_layers.CircleMarker at 0x7eff1f8ad2e8>,\n",
       " <folium.vector_layers.CircleMarker at 0x7eff1f8ad390>,\n",
       " <folium.vector_layers.CircleMarker at 0x7eff1f8ad438>,\n",
       " <folium.vector_layers.CircleMarker at 0x7eff1f8ad4e0>,\n",
       " <folium.vector_layers.CircleMarker at 0x7eff1f8ad588>,\n",
       " <folium.vector_layers.CircleMarker at 0x7eff1f89dfd0>,\n",
       " <folium.vector_layers.CircleMarker at 0x7eff1f89d5c0>,\n",
       " <folium.vector_layers.CircleMarker at 0x7eff1f89d550>,\n",
       " <folium.vector_layers.CircleMarker at 0x7eff1f89d470>,\n",
       " <folium.vector_layers.CircleMarker at 0x7eff1f89df28>,\n",
       " <folium.vector_layers.CircleMarker at 0x7eff1f89db00>,\n",
       " <folium.vector_layers.CircleMarker at 0x7eff1f89d908>,\n",
       " <folium.vector_layers.CircleMarker at 0x7eff1f89dda0>,\n",
       " <folium.vector_layers.CircleMarker at 0x7eff1f9c6470>,\n",
       " <folium.vector_layers.CircleMarker at 0x7eff1f88a1d0>,\n",
       " <folium.vector_layers.CircleMarker at 0x7eff1f88a9b0>,\n",
       " <folium.vector_layers.CircleMarker at 0x7eff1f88a908>,\n",
       " <folium.vector_layers.CircleMarker at 0x7eff1faa4a58>,\n",
       " <folium.vector_layers.CircleMarker at 0x7eff1faa4550>,\n",
       " <folium.vector_layers.CircleMarker at 0x7eff1f9eff28>,\n",
       " <folium.vector_layers.CircleMarker at 0x7eff1f8ad3c8>,\n",
       " <folium.vector_layers.CircleMarker at 0x7eff1f8ad400>,\n",
       " <folium.vector_layers.CircleMarker at 0x7eff1f8ad2b0>,\n",
       " <folium.vector_layers.CircleMarker at 0x7eff1f8ad0f0>,\n",
       " <folium.vector_layers.CircleMarker at 0x7eff1f8ad630>,\n",
       " <folium.vector_layers.CircleMarker at 0x7eff1f8ad518>,\n",
       " <folium.vector_layers.CircleMarker at 0x7eff1f8ad748>,\n",
       " <folium.vector_layers.CircleMarker at 0x7eff1faa4ef0>,\n",
       " <folium.vector_layers.CircleMarker at 0x7eff1f9ef908>,\n",
       " <folium.vector_layers.CircleMarker at 0x7eff1f88ab38>,\n",
       " <folium.vector_layers.CircleMarker at 0x7eff1f88ad30>,\n",
       " <folium.vector_layers.CircleMarker at 0x7eff1f88a160>,\n",
       " <folium.vector_layers.CircleMarker at 0x7eff1f89de80>,\n",
       " <folium.vector_layers.CircleMarker at 0x7eff1f89d1d0>,\n",
       " <folium.vector_layers.CircleMarker at 0x7eff1f89dd30>,\n",
       " <folium.vector_layers.CircleMarker at 0x7eff1f89d278>,\n",
       " <folium.vector_layers.CircleMarker at 0x7eff1f89dba8>,\n",
       " <folium.vector_layers.CircleMarker at 0x7eff1f8ad080>,\n",
       " <folium.vector_layers.CircleMarker at 0x7eff1f8ad470>,\n",
       " <folium.vector_layers.CircleMarker at 0x7eff1f8ad358>,\n",
       " <folium.vector_layers.CircleMarker at 0x7eff1f8ad5f8>,\n",
       " <folium.vector_layers.CircleMarker at 0x7eff1f8ad7f0>,\n",
       " <folium.vector_layers.CircleMarker at 0x7eff1f8ad828>,\n",
       " <folium.vector_layers.CircleMarker at 0x7eff1f8ad5c0>,\n",
       " <folium.vector_layers.CircleMarker at 0x7eff1f8ad908>,\n",
       " <folium.vector_layers.CircleMarker at 0x7eff1f8ad9b0>,\n",
       " <folium.vector_layers.CircleMarker at 0x7eff1f8ada58>,\n",
       " <folium.vector_layers.CircleMarker at 0x7eff1f8adb00>,\n",
       " <folium.vector_layers.CircleMarker at 0x7eff1f8adba8>,\n",
       " <folium.vector_layers.CircleMarker at 0x7eff1f89d6d8>,\n",
       " <folium.vector_layers.CircleMarker at 0x7eff1f89d080>,\n",
       " <folium.vector_layers.CircleMarker at 0x7eff1f9efdd8>,\n",
       " <folium.vector_layers.CircleMarker at 0x7eff1f88abe0>,\n",
       " <folium.vector_layers.CircleMarker at 0x7eff1f88a080>,\n",
       " <folium.vector_layers.CircleMarker at 0x7eff1f89da90>,\n",
       " <folium.vector_layers.CircleMarker at 0x7eff1f89d5f8>,\n",
       " <folium.vector_layers.CircleMarker at 0x7eff1f8ad320>,\n",
       " <folium.vector_layers.CircleMarker at 0x7eff1f8ad7b8>,\n",
       " <folium.vector_layers.CircleMarker at 0x7eff1f8ad898>,\n",
       " <folium.vector_layers.CircleMarker at 0x7eff1f8ad278>,\n",
       " <folium.vector_layers.CircleMarker at 0x7eff1f8ad550>,\n",
       " <folium.vector_layers.CircleMarker at 0x7eff1f8ad668>,\n",
       " <folium.vector_layers.CircleMarker at 0x7eff1f8adc50>,\n",
       " <folium.vector_layers.CircleMarker at 0x7eff1f8adb38>,\n",
       " <folium.vector_layers.CircleMarker at 0x7eff1f8add68>,\n",
       " <folium.vector_layers.CircleMarker at 0x7eff1f8adda0>,\n",
       " <folium.vector_layers.CircleMarker at 0x7eff1f8ade48>,\n",
       " <folium.vector_layers.CircleMarker at 0x7eff1f8adef0>,\n",
       " <folium.vector_layers.CircleMarker at 0x7eff1f8adf98>,\n",
       " <folium.vector_layers.CircleMarker at 0x7eff1f8adf28>,\n",
       " <folium.vector_layers.CircleMarker at 0x7eff1fa830b8>,\n",
       " <folium.vector_layers.CircleMarker at 0x7eff1f8adb70>,\n",
       " <folium.vector_layers.CircleMarker at 0x7eff1f8adbe0>,\n",
       " <folium.vector_layers.CircleMarker at 0x7eff1f8ad208>,\n",
       " <folium.vector_layers.CircleMarker at 0x7eff1f8ad128>,\n",
       " <folium.vector_layers.CircleMarker at 0x7eff1f8ada90>,\n",
       " <folium.vector_layers.CircleMarker at 0x7eff1f8ad8d0>,\n",
       " <folium.vector_layers.CircleMarker at 0x7eff1faa4b00>,\n",
       " <folium.vector_layers.CircleMarker at 0x7eff1f88a518>,\n",
       " <folium.vector_layers.CircleMarker at 0x7eff1f8ad6a0>,\n",
       " <folium.vector_layers.CircleMarker at 0x7eff1f8ad9e8>,\n",
       " <folium.vector_layers.CircleMarker at 0x7eff1f8ad940>,\n",
       " <folium.vector_layers.CircleMarker at 0x7eff1f89d358>,\n",
       " <folium.vector_layers.CircleMarker at 0x7eff1f89de48>,\n",
       " <folium.vector_layers.CircleMarker at 0x7eff1f89dc50>,\n",
       " <folium.vector_layers.CircleMarker at 0x7eff1fa83208>,\n",
       " <folium.vector_layers.CircleMarker at 0x7eff1fa832e8>,\n",
       " <folium.vector_layers.CircleMarker at 0x7eff1fa83320>,\n",
       " <folium.vector_layers.CircleMarker at 0x7eff1fa833c8>,\n",
       " <folium.vector_layers.CircleMarker at 0x7eff1fa83470>,\n",
       " <folium.vector_layers.CircleMarker at 0x7eff1fa83518>,\n",
       " <folium.vector_layers.CircleMarker at 0x7eff1fa835c0>,\n",
       " <folium.vector_layers.CircleMarker at 0x7eff1fa83668>,\n",
       " <folium.vector_layers.CircleMarker at 0x7eff1f9efb00>,\n",
       " <folium.vector_layers.CircleMarker at 0x7eff1f89dbe0>,\n",
       " <folium.vector_layers.CircleMarker at 0x7eff1f8ad198>,\n",
       " <folium.vector_layers.CircleMarker at 0x7eff1f8ad4a8>,\n",
       " <folium.vector_layers.CircleMarker at 0x7eff1f8ad710>,\n",
       " <folium.vector_layers.CircleMarker at 0x7eff1f8ad780>,\n",
       " <folium.vector_layers.CircleMarker at 0x7eff1f8ade10>,\n",
       " <folium.vector_layers.CircleMarker at 0x7eff1f8ade80>,\n",
       " <folium.vector_layers.CircleMarker at 0x7eff1f8adcf8>,\n",
       " <folium.vector_layers.CircleMarker at 0x7eff1fa83588>,\n",
       " <folium.vector_layers.CircleMarker at 0x7eff1fa83438>,\n",
       " <folium.vector_layers.CircleMarker at 0x7eff1fa83240>,\n",
       " <folium.vector_layers.CircleMarker at 0x7eff1fa83278>,\n",
       " <folium.vector_layers.CircleMarker at 0x7eff1fa83128>,\n",
       " <folium.vector_layers.CircleMarker at 0x7eff1fa83780>,\n",
       " <folium.vector_layers.CircleMarker at 0x7eff1fa837b8>,\n",
       " <folium.vector_layers.CircleMarker at 0x7eff1fa836a0>,\n",
       " <folium.vector_layers.CircleMarker at 0x7eff1fa83898>,\n",
       " <folium.vector_layers.CircleMarker at 0x7eff1fa83940>,\n",
       " <folium.vector_layers.CircleMarker at 0x7eff1fa839e8>,\n",
       " <folium.vector_layers.CircleMarker at 0x7eff1fa83a90>,\n",
       " <folium.vector_layers.CircleMarker at 0x7eff1f8ad978>,\n",
       " <folium.vector_layers.CircleMarker at 0x7eff1faa4e48>,\n",
       " <folium.vector_layers.CircleMarker at 0x7eff1f89db38>,\n",
       " <folium.vector_layers.CircleMarker at 0x7eff1f8ad6d8>,\n",
       " <folium.vector_layers.CircleMarker at 0x7eff1f8adcc0>,\n",
       " <folium.vector_layers.CircleMarker at 0x7eff1f8add30>,\n",
       " <folium.vector_layers.CircleMarker at 0x7eff1fa83b38>,\n",
       " <folium.vector_layers.CircleMarker at 0x7eff1fa839b0>,\n",
       " <folium.vector_layers.CircleMarker at 0x7eff1fa83860>,\n",
       " <folium.vector_layers.CircleMarker at 0x7eff1fa831d0>,\n",
       " <folium.vector_layers.CircleMarker at 0x7eff1fa83710>,\n",
       " <folium.vector_layers.CircleMarker at 0x7eff1fa83358>,\n",
       " <folium.vector_layers.CircleMarker at 0x7eff1fa83390>,\n",
       " <folium.vector_layers.CircleMarker at 0x7eff1fa83630>,\n",
       " <folium.vector_layers.CircleMarker at 0x7eff1fa83a20>,\n",
       " <folium.vector_layers.CircleMarker at 0x7eff1fa83c50>,\n",
       " <folium.vector_layers.CircleMarker at 0x7eff1fa83c88>,\n",
       " <folium.vector_layers.CircleMarker at 0x7eff1fa83d30>,\n",
       " <folium.vector_layers.CircleMarker at 0x7eff1fa83dd8>,\n",
       " <folium.vector_layers.CircleMarker at 0x7eff1fa83e80>,\n",
       " <folium.vector_layers.CircleMarker at 0x7eff1fa83f28>,\n",
       " <folium.vector_layers.CircleMarker at 0x7eff1fa83fd0>,\n",
       " <folium.vector_layers.CircleMarker at 0x7eff1f89ddd8>,\n",
       " <folium.vector_layers.CircleMarker at 0x7eff1f8ada20>,\n",
       " <folium.vector_layers.CircleMarker at 0x7eff1f8adf60>,\n",
       " <folium.vector_layers.CircleMarker at 0x7eff1f8ad860>,\n",
       " <folium.vector_layers.CircleMarker at 0x7eff1fa83ef0>,\n",
       " <folium.vector_layers.CircleMarker at 0x7eff1fa83da0>,\n",
       " <folium.vector_layers.CircleMarker at 0x7eff1fa836d8>,\n",
       " <folium.vector_layers.CircleMarker at 0x7eff1fa83c18>,\n",
       " <folium.vector_layers.CircleMarker at 0x7eff1fa83048>,\n",
       " <folium.vector_layers.CircleMarker at 0x7eff1fa83400>,\n",
       " <folium.vector_layers.CircleMarker at 0x7eff1fa837f0>,\n",
       " <folium.vector_layers.CircleMarker at 0x7eff1fa83828>,\n",
       " <folium.vector_layers.CircleMarker at 0x7eff1fa83a58>,\n",
       " <folium.vector_layers.CircleMarker at 0x7eff1fa83eb8>,\n",
       " <folium.vector_layers.CircleMarker at 0x7eff1fa83748>,\n",
       " <folium.vector_layers.CircleMarker at 0x7eff1fa8f128>,\n",
       " <folium.vector_layers.CircleMarker at 0x7eff1fa8f208>,\n",
       " <folium.vector_layers.CircleMarker at 0x7eff1fa8f2b0>,\n",
       " <folium.vector_layers.CircleMarker at 0x7eff1fa8f358>,\n",
       " <folium.vector_layers.CircleMarker at 0x7eff1fa8f400>,\n",
       " <folium.vector_layers.CircleMarker at 0x7eff1fa8f4a8>,\n",
       " <folium.vector_layers.CircleMarker at 0x7eff1fa8f550>,\n",
       " <folium.vector_layers.CircleMarker at 0x7eff1fa83e10>,\n",
       " <folium.vector_layers.CircleMarker at 0x7eff1fa83908>,\n",
       " <folium.vector_layers.CircleMarker at 0x7eff1fa834a8>,\n",
       " <folium.vector_layers.CircleMarker at 0x7eff1fa83b70>,\n",
       " <folium.vector_layers.CircleMarker at 0x7eff1fa83d68>,\n",
       " <folium.vector_layers.CircleMarker at 0x7eff1f88af98>,\n",
       " <folium.vector_layers.CircleMarker at 0x7eff1fa83080>,\n",
       " <folium.vector_layers.CircleMarker at 0x7eff1f8adc88>,\n",
       " <folium.vector_layers.CircleMarker at 0x7eff1f8adac8>,\n",
       " <folium.vector_layers.CircleMarker at 0x7eff1fa8f390>,\n",
       " <folium.vector_layers.CircleMarker at 0x7eff1fa8f3c8>,\n",
       " <folium.vector_layers.CircleMarker at 0x7eff1fa8f278>,\n",
       " <folium.vector_layers.CircleMarker at 0x7eff1fa8f0b8>,\n",
       " <folium.vector_layers.CircleMarker at 0x7eff1fa8f5f8>,\n",
       " <folium.vector_layers.CircleMarker at 0x7eff1fa8f4e0>,\n",
       " <folium.vector_layers.CircleMarker at 0x7eff1fa8f710>,\n",
       " <folium.vector_layers.CircleMarker at 0x7eff1fa8f748>,\n",
       " <folium.vector_layers.CircleMarker at 0x7eff1fa8f7f0>,\n",
       " <folium.vector_layers.CircleMarker at 0x7eff1fa8f898>,\n",
       " <folium.vector_layers.CircleMarker at 0x7eff1fa8f940>,\n",
       " <folium.vector_layers.CircleMarker at 0x7eff1fa8f9e8>,\n",
       " <folium.vector_layers.CircleMarker at 0x7eff1fa8fa90>,\n",
       " <folium.vector_layers.CircleMarker at 0x7eff1f8addd8>,\n",
       " <folium.vector_layers.CircleMarker at 0x7eff1fa83f98>,\n",
       " <folium.vector_layers.CircleMarker at 0x7eff1fa835f8>,\n",
       " <folium.vector_layers.CircleMarker at 0x7eff1fa83be0>,\n",
       " <folium.vector_layers.CircleMarker at 0x7eff1fa83550>,\n",
       " <folium.vector_layers.CircleMarker at 0x7eff1fa832b0>,\n",
       " <folium.vector_layers.CircleMarker at 0x7eff1fa8f9b0>,\n",
       " <folium.vector_layers.CircleMarker at 0x7eff1fa8f860>,\n",
       " <folium.vector_layers.CircleMarker at 0x7eff1fa8f668>,\n",
       " <folium.vector_layers.CircleMarker at 0x7eff1fa8f6d8>,\n",
       " <folium.vector_layers.CircleMarker at 0x7eff1fa8f160>,\n",
       " <folium.vector_layers.CircleMarker at 0x7eff1fa8f198>,\n",
       " <folium.vector_layers.CircleMarker at 0x7eff1fa8f470>,\n",
       " <folium.vector_layers.CircleMarker at 0x7eff1fa8fb38>,\n",
       " <folium.vector_layers.CircleMarker at 0x7eff1fa8fa20>,\n",
       " <folium.vector_layers.CircleMarker at 0x7eff1fa8fc50>,\n",
       " <folium.vector_layers.CircleMarker at 0x7eff1fa8fc88>,\n",
       " <folium.vector_layers.CircleMarker at 0x7eff1fa8fd30>,\n",
       " <folium.vector_layers.CircleMarker at 0x7eff1fa8fdd8>,\n",
       " <folium.vector_layers.CircleMarker at 0x7eff1fa8fe80>,\n",
       " <folium.vector_layers.CircleMarker at 0x7eff1fa8ff28>,\n",
       " <folium.vector_layers.CircleMarker at 0x7eff1fa8ffd0>,\n",
       " <folium.vector_layers.CircleMarker at 0x7eff1fa83ac8>,\n",
       " <folium.vector_layers.CircleMarker at 0x7eff1f8ad1d0>,\n",
       " <folium.vector_layers.CircleMarker at 0x7eff1fa83cc0>,\n",
       " <folium.vector_layers.CircleMarker at 0x7eff1fa83e48>,\n",
       " <folium.vector_layers.CircleMarker at 0x7eff1fa8fcc0>,\n",
       " <folium.vector_layers.CircleMarker at 0x7eff1fa8fbe0>,\n",
       " <folium.vector_layers.CircleMarker at 0x7eff1fa8f2e8>,\n",
       " <folium.vector_layers.CircleMarker at 0x7eff1fa8f0f0>,\n",
       " <folium.vector_layers.CircleMarker at 0x7eff1fa8f978>,\n",
       " <folium.vector_layers.CircleMarker at 0x7eff1fa8f080>,\n",
       " <folium.vector_layers.CircleMarker at 0x7eff1fa8f630>,\n",
       " <folium.vector_layers.CircleMarker at 0x7eff1fa8f828>,\n",
       " <folium.vector_layers.CircleMarker at 0x7eff1fa8f908>,\n",
       " <folium.vector_layers.CircleMarker at 0x7eff1fa8feb8>,\n",
       " <folium.vector_layers.CircleMarker at 0x7eff1fa8f7b8>,\n",
       " <folium.vector_layers.CircleMarker at 0x7eff1fa39390>,\n",
       " <folium.vector_layers.CircleMarker at 0x7eff1fa39320>,\n",
       " <folium.vector_layers.CircleMarker at 0x7eff1fa39630>,\n",
       " <folium.vector_layers.CircleMarker at 0x7eff1fa39828>,\n",
       " <folium.vector_layers.CircleMarker at 0x7eff1fa39748>,\n",
       " <folium.vector_layers.CircleMarker at 0x7eff1fa39470>,\n",
       " <folium.vector_layers.CircleMarker at 0x7eff1fa399e8>,\n",
       " <folium.vector_layers.CircleMarker at 0x7eff1fa830f0>,\n",
       " <folium.vector_layers.CircleMarker at 0x7eff1fa834e0>,\n",
       " <folium.vector_layers.CircleMarker at 0x7eff1fa8fa58>,\n",
       " <folium.vector_layers.CircleMarker at 0x7eff1fa8f588>,\n",
       " <folium.vector_layers.CircleMarker at 0x7eff1fa8f6a0>,\n",
       " <folium.vector_layers.CircleMarker at 0x7eff1fa8fcf8>,\n",
       " <folium.vector_layers.CircleMarker at 0x7eff1fa8fc18>,\n",
       " <folium.vector_layers.CircleMarker at 0x7eff1fa8fda0>,\n",
       " <folium.vector_layers.CircleMarker at 0x7eff1fa8fe10>,\n",
       " <folium.vector_layers.CircleMarker at 0x7eff1fa8fac8>,\n",
       " <folium.vector_layers.CircleMarker at 0x7eff1fa390f0>,\n",
       " <folium.vector_layers.CircleMarker at 0x7eff1fa39780>,\n",
       " <folium.vector_layers.CircleMarker at 0x7eff1fa39438>,\n",
       " <folium.vector_layers.CircleMarker at 0x7eff1fa39048>,\n",
       " <folium.vector_layers.CircleMarker at 0x7eff1fa39c50>,\n",
       " <folium.vector_layers.CircleMarker at 0x7eff1fa39cf8>,\n",
       " <folium.vector_layers.CircleMarker at 0x7eff1fa39a20>,\n",
       " <folium.vector_layers.CircleMarker at 0x7eff1fa39518>,\n",
       " <folium.vector_layers.CircleMarker at 0x7eff1fa396a0>,\n",
       " <folium.vector_layers.CircleMarker at 0x7eff1fa39eb8>,\n",
       " <folium.vector_layers.CircleMarker at 0x7eff1fa39f28>,\n",
       " <folium.vector_layers.CircleMarker at 0x7eff1fa8f780>,\n",
       " <folium.vector_layers.CircleMarker at 0x7eff1fa8f438>,\n",
       " <folium.vector_layers.CircleMarker at 0x7eff1fa8f240>,\n",
       " <folium.vector_layers.CircleMarker at 0x7eff1f8adeb8>,\n",
       " <folium.vector_layers.CircleMarker at 0x7eff1fa83f60>,\n",
       " <folium.vector_layers.CircleMarker at 0x7eff1fa83160>,\n",
       " <folium.vector_layers.CircleMarker at 0x7eff1fa8fb70>,\n",
       " <folium.vector_layers.CircleMarker at 0x7eff1fa39f98>,\n",
       " <folium.vector_layers.CircleMarker at 0x7eff1fa395c0>,\n",
       " <folium.vector_layers.CircleMarker at 0x7eff1fa395f8>,\n",
       " <folium.vector_layers.CircleMarker at 0x7eff1fa392b0>,\n",
       " <folium.vector_layers.CircleMarker at 0x7eff1fa39550>,\n",
       " <folium.vector_layers.CircleMarker at 0x7eff1fa39588>,\n",
       " <folium.vector_layers.CircleMarker at 0x7eff1fa39940>,\n",
       " <folium.vector_layers.CircleMarker at 0x7eff1fa39ef0>,\n",
       " <folium.vector_layers.CircleMarker at 0x7eff1fa399b0>,\n",
       " <folium.vector_layers.CircleMarker at 0x7eff1fa390b8>,\n",
       " <folium.vector_layers.CircleMarker at 0x7eff1fa39898>,\n",
       " <folium.vector_layers.CircleMarker at 0x7eff1fa39a90>,\n",
       " <folium.vector_layers.CircleMarker at 0x7eff1fa39b38>,\n",
       " <folium.vector_layers.CircleMarker at 0x7eff1fa39278>,\n",
       " <folium.vector_layers.CircleMarker at 0x7eff1fa393c8>,\n",
       " <folium.vector_layers.CircleMarker at 0x7eff1fa8ff60>,\n",
       " <folium.vector_layers.CircleMarker at 0x7eff1fa8f320>,\n",
       " <folium.vector_layers.CircleMarker at 0x7eff1fa8fef0>,\n",
       " <folium.vector_layers.CircleMarker at 0x7eff1f89df98>,\n",
       " <folium.vector_layers.CircleMarker at 0x7eff1f8adfd0>,\n",
       " <folium.vector_layers.CircleMarker at 0x7eff1fa8fba8>,\n",
       " <folium.vector_layers.CircleMarker at 0x7eff1fa83198>,\n",
       " <folium.vector_layers.CircleMarker at 0x7eff1fa83b00>,\n",
       " <folium.vector_layers.CircleMarker at 0x7eff1fa39358>,\n",
       " <folium.vector_layers.CircleMarker at 0x7eff1fa394e0>,\n",
       " <folium.vector_layers.CircleMarker at 0x7eff1fa39668>,\n",
       " <folium.vector_layers.CircleMarker at 0x7eff1fa39160>,\n",
       " <folium.vector_layers.CircleMarker at 0x7eff1fa39400>,\n",
       " <folium.vector_layers.CircleMarker at 0x7eff1fa397b8>,\n",
       " <folium.vector_layers.CircleMarker at 0x7eff1fa39b00>,\n",
       " <folium.vector_layers.CircleMarker at 0x7eff1fa39080>,\n",
       " <folium.vector_layers.CircleMarker at 0x7eff1fa39c88>,\n",
       " <folium.vector_layers.CircleMarker at 0x7eff1fa39e10>,\n",
       " <folium.vector_layers.CircleMarker at 0x7eff1fa397f0>,\n",
       " <folium.vector_layers.CircleMarker at 0x7eff1fa39d68>,\n",
       " <folium.vector_layers.CircleMarker at 0x7eff1fa39c18>,\n",
       " <folium.vector_layers.CircleMarker at 0x7eff1fa4d0b8>,\n",
       " <folium.vector_layers.CircleMarker at 0x7eff1fa39f60>,\n",
       " <folium.vector_layers.CircleMarker at 0x7eff1fa391d0>,\n",
       " <folium.vector_layers.CircleMarker at 0x7eff1fa396d8>,\n",
       " <folium.vector_layers.CircleMarker at 0x7eff1fa39198>,\n",
       " <folium.vector_layers.CircleMarker at 0x7eff1fa39908>,\n",
       " <folium.vector_layers.CircleMarker at 0x7eff1fa39240>,\n",
       " <folium.vector_layers.CircleMarker at 0x7eff1fa39ac8>,\n",
       " <folium.vector_layers.CircleMarker at 0x7eff1fa83978>,\n",
       " <folium.vector_layers.CircleMarker at 0x7eff1fa83ba8>,\n",
       " <folium.vector_layers.CircleMarker at 0x7eff1f89d7b8>,\n",
       " <folium.vector_layers.CircleMarker at 0x7eff1fa392e8>,\n",
       " <folium.vector_layers.CircleMarker at 0x7eff1fa8fb00>,\n",
       " <folium.vector_layers.CircleMarker at 0x7eff1fa8fe48>,\n",
       " <folium.vector_layers.CircleMarker at 0x7eff1fa8f518>,\n",
       " <folium.vector_layers.CircleMarker at 0x7eff1fa4d208>,\n",
       " <folium.vector_layers.CircleMarker at 0x7eff1fa4d2e8>,\n",
       " <folium.vector_layers.CircleMarker at 0x7eff1fa4d320>,\n",
       " <folium.vector_layers.CircleMarker at 0x7eff1fa4d3c8>,\n",
       " <folium.vector_layers.CircleMarker at 0x7eff1fa4d470>,\n",
       " <folium.vector_layers.CircleMarker at 0x7eff1fa4d518>,\n",
       " <folium.vector_layers.CircleMarker at 0x7eff1fa4d5c0>,\n",
       " <folium.vector_layers.CircleMarker at 0x7eff1fa4d668>,\n",
       " <folium.vector_layers.CircleMarker at 0x7eff1f9efba8>,\n",
       " <folium.vector_layers.CircleMarker at 0x7eff1fa838d0>,\n",
       " <folium.vector_layers.CircleMarker at 0x7eff1fa8f1d0>,\n",
       " <folium.vector_layers.CircleMarker at 0x7eff1fa39e80>,\n",
       " <folium.vector_layers.CircleMarker at 0x7eff1fa39978>,\n",
       " <folium.vector_layers.CircleMarker at 0x7eff1fa39128>,\n",
       " <folium.vector_layers.CircleMarker at 0x7eff1fa39d30>,\n",
       " <folium.vector_layers.CircleMarker at 0x7eff1fa39208>,\n",
       " <folium.vector_layers.CircleMarker at 0x7eff1fa39da0>,\n",
       " <folium.vector_layers.CircleMarker at 0x7eff1fa4d588>,\n",
       " <folium.vector_layers.CircleMarker at 0x7eff1fa4d438>,\n",
       " <folium.vector_layers.CircleMarker at 0x7eff1fa4d080>,\n",
       " <folium.vector_layers.CircleMarker at 0x7eff1fa4d278>,\n",
       " <folium.vector_layers.CircleMarker at 0x7eff1fa4d710>,\n",
       " <folium.vector_layers.CircleMarker at 0x7eff1fa4d5f8>,\n",
       " <folium.vector_layers.CircleMarker at 0x7eff1fa4d828>,\n",
       " <folium.vector_layers.CircleMarker at 0x7eff1fa4d860>,\n",
       " <folium.vector_layers.CircleMarker at 0x7eff1fa4d908>,\n",
       " <folium.vector_layers.CircleMarker at 0x7eff1fa4d9b0>,\n",
       " <folium.vector_layers.CircleMarker at 0x7eff1fa4da58>,\n",
       " <folium.vector_layers.CircleMarker at 0x7eff1fa4db00>,\n",
       " <folium.vector_layers.CircleMarker at 0x7eff1fa4dba8>,\n",
       " <folium.vector_layers.CircleMarker at 0x7eff1fa39be0>,\n",
       " <folium.vector_layers.CircleMarker at 0x7eff1fa83cf8>,\n",
       " <folium.vector_layers.CircleMarker at 0x7eff1fa8ff98>,\n",
       " <folium.vector_layers.CircleMarker at 0x7eff1f8adc18>,\n",
       " <folium.vector_layers.CircleMarker at 0x7eff1fa39b70>,\n",
       " <folium.vector_layers.CircleMarker at 0x7eff1fa39710>,\n",
       " <folium.vector_layers.CircleMarker at 0x7eff1fa4d898>,\n",
       " <folium.vector_layers.CircleMarker at 0x7eff1fa4d7b8>,\n",
       " <folium.vector_layers.CircleMarker at 0x7eff1fa4d1d0>,\n",
       " <folium.vector_layers.CircleMarker at 0x7eff1fa4d198>,\n",
       " <folium.vector_layers.CircleMarker at 0x7eff1fa4d550>,\n",
       " <folium.vector_layers.CircleMarker at 0x7eff1fa4d400>,\n",
       " <folium.vector_layers.CircleMarker at 0x7eff1fa4d4e0>,\n",
       " <folium.vector_layers.CircleMarker at 0x7eff1fa4dc50>,\n",
       " <folium.vector_layers.CircleMarker at 0x7eff1fa4db38>,\n",
       " <folium.vector_layers.CircleMarker at 0x7eff1fa4dd68>,\n",
       " <folium.vector_layers.CircleMarker at 0x7eff1fa4dda0>,\n",
       " <folium.vector_layers.CircleMarker at 0x7eff1fa4de48>,\n",
       " <folium.vector_layers.CircleMarker at 0x7eff1fa4def0>,\n",
       " <folium.vector_layers.CircleMarker at 0x7eff1fa4df98>,\n",
       " <folium.vector_layers.CircleMarker at 0x7eff1fa4df28>,\n",
       " <folium.vector_layers.CircleMarker at 0x7eff1fa620b8>,\n",
       " <folium.vector_layers.CircleMarker at 0x7eff1fa4db70>,\n",
       " <folium.vector_layers.CircleMarker at 0x7eff1fa4dbe0>,\n",
       " <folium.vector_layers.CircleMarker at 0x7eff1fa4d4a8>,\n",
       " <folium.vector_layers.CircleMarker at 0x7eff1fa4d390>,\n",
       " <folium.vector_layers.CircleMarker at 0x7eff1fa4da90>,\n",
       " <folium.vector_layers.CircleMarker at 0x7eff1fa4d240>,\n",
       " <folium.vector_layers.CircleMarker at 0x7eff1fa4d048>,\n",
       " <folium.vector_layers.CircleMarker at 0x7eff1f8ad0b8>,\n",
       " <folium.vector_layers.CircleMarker at 0x7eff1fa4dac8>,\n",
       " <folium.vector_layers.CircleMarker at 0x7eff1fa4d9e8>,\n",
       " <folium.vector_layers.CircleMarker at 0x7eff1fa4d2b0>,\n",
       " <folium.vector_layers.CircleMarker at 0x7eff1fa398d0>,\n",
       " <folium.vector_layers.CircleMarker at 0x7eff1fa39860>,\n",
       " <folium.vector_layers.CircleMarker at 0x7eff1fa39ba8>,\n",
       " <folium.vector_layers.CircleMarker at 0x7eff1fa62208>,\n",
       " <folium.vector_layers.CircleMarker at 0x7eff1fa622e8>,\n",
       " <folium.vector_layers.CircleMarker at 0x7eff1fa62320>,\n",
       " <folium.vector_layers.CircleMarker at 0x7eff1fa623c8>,\n",
       " <folium.vector_layers.CircleMarker at 0x7eff1fa62470>,\n",
       " <folium.vector_layers.CircleMarker at 0x7eff1fa62518>,\n",
       " <folium.vector_layers.CircleMarker at 0x7eff1fa625c0>,\n",
       " <folium.vector_layers.CircleMarker at 0x7eff1fa62668>,\n",
       " <folium.vector_layers.CircleMarker at 0x7eff1fa8fd68>,\n",
       " <folium.vector_layers.CircleMarker at 0x7eff1fa39cc0>,\n",
       " <folium.vector_layers.CircleMarker at 0x7eff1fa4d780>,\n",
       " <folium.vector_layers.CircleMarker at 0x7eff1fa4d7f0>,\n",
       " <folium.vector_layers.CircleMarker at 0x7eff1fa4d630>,\n",
       " <folium.vector_layers.CircleMarker at 0x7eff1fa4d358>,\n",
       " <folium.vector_layers.CircleMarker at 0x7eff1fa4de10>,\n",
       " <folium.vector_layers.CircleMarker at 0x7eff1fa4de80>,\n",
       " <folium.vector_layers.CircleMarker at 0x7eff1fa4ddd8>,\n",
       " <folium.vector_layers.CircleMarker at 0x7eff1fa62358>,\n",
       " <folium.vector_layers.CircleMarker at 0x7eff1fa62080>,\n",
       " <folium.vector_layers.CircleMarker at 0x7eff1fa620f0>,\n",
       " <folium.vector_layers.CircleMarker at 0x7eff1fa621d0>,\n",
       " <folium.vector_layers.CircleMarker at 0x7eff1fa62710>,\n",
       " <folium.vector_layers.CircleMarker at 0x7eff1fa625f8>,\n",
       " <folium.vector_layers.CircleMarker at 0x7eff1fa62828>,\n",
       " <folium.vector_layers.CircleMarker at 0x7eff1fa62860>,\n",
       " <folium.vector_layers.CircleMarker at 0x7eff1fa62908>,\n",
       " <folium.vector_layers.CircleMarker at 0x7eff1fa629b0>,\n",
       " <folium.vector_layers.CircleMarker at 0x7eff1fa62a58>,\n",
       " <folium.vector_layers.CircleMarker at 0x7eff1fa62b00>,\n",
       " <folium.vector_layers.CircleMarker at 0x7eff1fa62ba8>,\n",
       " <folium.vector_layers.CircleMarker at 0x7eff1fa4da20>,\n",
       " <folium.vector_layers.CircleMarker at 0x7eff1fa8f5c0>,\n",
       " <folium.vector_layers.CircleMarker at 0x7eff1fa4dcc0>,\n",
       " <folium.vector_layers.CircleMarker at 0x7eff1fa39a58>,\n",
       " <folium.vector_layers.CircleMarker at 0x7eff1fa4df60>,\n",
       " <folium.vector_layers.CircleMarker at 0x7eff1fa4d940>,\n",
       " <folium.vector_layers.CircleMarker at 0x7eff1fa62898>,\n",
       " <folium.vector_layers.CircleMarker at 0x7eff1fa627b8>,\n",
       " <folium.vector_layers.CircleMarker at 0x7eff1fa62198>,\n",
       " <folium.vector_layers.CircleMarker at 0x7eff1fa622b0>,\n",
       " <folium.vector_layers.CircleMarker at 0x7eff1fa62550>,\n",
       " <folium.vector_layers.CircleMarker at 0x7eff1fa62588>,\n",
       " <folium.vector_layers.CircleMarker at 0x7eff1fa62128>,\n",
       " <folium.vector_layers.CircleMarker at 0x7eff1fa626d8>,\n",
       " <folium.vector_layers.CircleMarker at 0x7eff1fa62cc0>,\n",
       " <folium.vector_layers.CircleMarker at 0x7eff1fa62cf8>,\n",
       " <folium.vector_layers.CircleMarker at 0x7eff1fa62be0>,\n",
       " <folium.vector_layers.CircleMarker at 0x7eff1fa62dd8>,\n",
       " <folium.vector_layers.CircleMarker at 0x7eff1fa62e80>,\n",
       " <folium.vector_layers.CircleMarker at 0x7eff1fa62f28>,\n",
       " <folium.vector_layers.CircleMarker at 0x7eff1fa62fd0>,\n",
       " <folium.vector_layers.CircleMarker at 0x7eff1fa39dd8>,\n",
       " <folium.vector_layers.CircleMarker at 0x7eff1fa4d978>,\n",
       " <folium.vector_layers.CircleMarker at 0x7eff1fa4dc88>,\n",
       " <folium.vector_layers.CircleMarker at 0x7eff1fa4d748>,\n",
       " <folium.vector_layers.CircleMarker at 0x7eff1fa62630>,\n",
       " <folium.vector_layers.CircleMarker at 0x7eff1fa62c88>,\n",
       " <folium.vector_layers.CircleMarker at 0x7eff1fa62d68>,\n",
       " <folium.vector_layers.CircleMarker at 0x7eff1fa62240>,\n",
       " <folium.vector_layers.CircleMarker at 0x7eff1fa624a8>,\n",
       " <folium.vector_layers.CircleMarker at 0x7eff1fa62048>,\n",
       " <folium.vector_layers.CircleMarker at 0x7eff1fa62390>,\n",
       " <folium.vector_layers.CircleMarker at 0x7eff1fa62ac8>,\n",
       " <folium.vector_layers.CircleMarker at 0x7eff1fa626a0>,\n",
       " <folium.vector_layers.CircleMarker at 0x7eff1fa62c18>,\n",
       " <folium.vector_layers.CircleMarker at 0x7eff1fa62780>,\n",
       " <folium.vector_layers.CircleMarker at 0x7eff1f9fd128>,\n",
       " <folium.vector_layers.CircleMarker at 0x7eff1f9fd208>,\n",
       " <folium.vector_layers.CircleMarker at 0x7eff1f9fd2b0>,\n",
       " <folium.vector_layers.CircleMarker at 0x7eff1f9fd358>]"
      ]
     },
     "execution_count": 38,
     "metadata": {},
     "output_type": "execute_result"
    }
   ],
   "source": [
    "trip_markers = markers_from_trips(cleaned_trips)\n"
   ]
  },
  {
   "cell_type": "code",
   "execution_count": 36,
   "metadata": {},
   "outputs": [
    {
     "data": {
      "text/plain": [
       "[{'trip_distance': 18.38,\n",
       "  'pickup_latitude': 40.64499,\n",
       "  'pickup_longitude': -73.78115},\n",
       " {'trip_distance': 1.3,\n",
       "  'pickup_latitude': 40.766931,\n",
       "  'pickup_longitude': -73.982098},\n",
       " {'trip_distance': 4.5,\n",
       "  'pickup_latitude': 40.77773,\n",
       "  'pickup_longitude': -73.951902},\n",
       " {'trip_distance': 2.4,\n",
       "  'pickup_latitude': 40.795678,\n",
       "  'pickup_longitude': -73.971049}]"
      ]
     },
     "execution_count": 36,
     "metadata": {},
     "output_type": "execute_result"
    }
   ],
   "source": [
    "cleaned_trips[0:4]"
   ]
  },
  {
   "cell_type": "code",
   "execution_count": 41,
   "metadata": {},
   "outputs": [
    {
     "data": {
      "text/plain": [
       "[[40.64499, -73.78115],\n",
       " [40.766931, -73.982098],\n",
       " [40.77773, -73.951902],\n",
       " [40.795678, -73.971049]]"
      ]
     },
     "execution_count": 41,
     "metadata": {},
     "output_type": "execute_result"
    }
   ],
   "source": [
    "trip_markers and len(trip_markers) # 1000\n",
    "\n",
    "list(map(lambda marker: marker.location, trip_markers[0:4]))\n",
    "# [[40.64499, -73.78115],\n",
    "#  [40.766931, -73.982098],\n",
    "#  [40.77773, -73.951902],\n",
    "#  [40.795678, -73.971049]]"
   ]
  },
  {
   "cell_type": "markdown",
   "metadata": {},
   "source": [
    "Ok, now that we have a function that creates locations, and a function that creates markers, it is time to write a function to plot a map. \n",
    "\n",
    "Write a function called `map_from` that, provided the first argument of a list location and second argument an integer representing the `zoom_start`, returns a `folium` map the corresponding location and `zoom_start` attributes.\n",
    "\n",
    "> Hint: The following is how to write a map with folium:\n",
    "> ```python \n",
    "    folium.Map(location=location, zoom_start=zoom_amount)\n",
    "> ```"
   ]
  },
  {
   "cell_type": "code",
   "execution_count": 42,
   "metadata": {},
   "outputs": [],
   "source": [
    "def map_from(location, zoom_amount):\n",
    "    return folium.Map(location=location, zoom_start=zoom_amount)"
   ]
  },
  {
   "cell_type": "code",
   "execution_count": 45,
   "metadata": {},
   "outputs": [],
   "source": [
    "times_square_map = map_from([40.7589, -73.9851], 15)\n",
    "# times_square_map and times_square_map.location # [40.7589, -73.9851]\n",
    "# times_square_map and times_square_map.zoom_start # 15"
   ]
  },
  {
   "cell_type": "code",
   "execution_count": 46,
   "metadata": {
    "scrolled": true
   },
   "outputs": [
    {
     "data": {
      "text/html": [
       "<div style=\"width:100%;\"><div style=\"position:relative;width:100%;height:0;padding-bottom:60%;\"><iframe src=\"data:text/html;charset=utf-8;base64,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\" style=\"position:absolute;width:100%;height:100%;left:0;top:0;border:none !important;\" allowfullscreen webkitallowfullscreen mozallowfullscreen></iframe></div></div>"
      ],
      "text/plain": [
       "<folium.folium.Map at 0x7eff1f9c6320>"
      ]
     },
     "execution_count": 46,
     "metadata": {},
     "output_type": "execute_result"
    }
   ],
   "source": [
    "times_square_marker and times_square_marker.add_to(times_square_map)\n",
    "times_square_map"
   ]
  },
  {
   "cell_type": "markdown",
   "metadata": {},
   "source": [
    "Now that we have a marker and a map, now let's write a function that adds a lot of markers to a map.  This function should add each marker in the list to the map object then return the updated map object."
   ]
  },
  {
   "cell_type": "code",
   "execution_count": null,
   "metadata": {},
   "outputs": [],
   "source": [
    "manhattan_map = map_from([40.7589, -73.9851], 13)"
   ]
  },
  {
   "cell_type": "code",
   "execution_count": 52,
   "metadata": {},
   "outputs": [],
   "source": [
    "def add_markers(markers, map_obj):\n",
    "    mapped = map(lambda marker: marker.add_to(map_obj),markers)\n",
    "    return mapped"
   ]
  },
  {
   "cell_type": "code",
   "execution_count": 53,
   "metadata": {
    "scrolled": false
   },
   "outputs": [],
   "source": [
    "map_with_markers = add_markers(trip_markers, manhattan_map)"
   ]
  },
  {
   "cell_type": "code",
   "execution_count": 54,
   "metadata": {},
   "outputs": [
    {
     "data": {
      "text/plain": [
       "<map at 0x7eff1fa62a20>"
      ]
     },
     "execution_count": 54,
     "metadata": {},
     "output_type": "execute_result"
    }
   ],
   "source": [
    "map_with_markers"
   ]
  },
  {
   "cell_type": "markdown",
   "metadata": {},
   "source": [
    "### Using Nearest Neighbors"
   ]
  },
  {
   "cell_type": "markdown",
   "metadata": {},
   "source": [
    "Ok, let's write a function that given a latitude and longitude will predict the distance for us.  We'll do this by first finding the nearest trips given a latitude and longitude. "
   ]
  },
  {
   "cell_type": "markdown",
   "metadata": {},
   "source": [
    "Here we once again apply the nearest neighbors formula. As a first step, write a function named `distance_location` that calculates the distance in pickup location between two trips."
   ]
  },
  {
   "cell_type": "code",
   "execution_count": null,
   "metadata": {},
   "outputs": [],
   "source": [
    "import math\n",
    "\n",
    "def distance_location(selected_trip, neighbor_trip):\n",
    "    pass"
   ]
  },
  {
   "cell_type": "code",
   "execution_count": null,
   "metadata": {},
   "outputs": [],
   "source": [
    "first_trip = {'pickup_latitude': 40.64499, 'pickup_longitude': -73.78115, 'trip_distance': 18.38}\n",
    "second_trip = {'pickup_latitude': 40.766931, 'pickup_longitude': -73.982098, 'trip_distance': 1.3}\n",
    "distance_first_and_second = distance_location(first_trip, second_trip)\n",
    "\n",
    "distance_first_and_second and round(distance_first_and_second, 3) # 0.235"
   ]
  },
  {
   "cell_type": "markdown",
   "metadata": {},
   "source": [
    "Ok, next write a function called `distance_between_neighbors` that adds a new key-value pair, called `distance_from_selected`, that calculates the distance of the `neighbor_trip` from the `selected_trip`."
   ]
  },
  {
   "cell_type": "code",
   "execution_count": null,
   "metadata": {},
   "outputs": [],
   "source": [
    "def distance_between_neighbors(selected_trip, neighbor_trip):\n",
    "    pass"
   ]
  },
  {
   "cell_type": "code",
   "execution_count": null,
   "metadata": {},
   "outputs": [],
   "source": [
    "distance_between_neighbors(first_trip, second_trip)\n",
    "\n",
    "# {'distance_from_selected': 0.23505256047318146,\n",
    "#  'pickup_latitude': 40.766931,\n",
    "#  'pickup_longitude': -73.982098,\n",
    "#  'trip_distance': 1.3}"
   ]
  },
  {
   "cell_type": "markdown",
   "metadata": {},
   "source": [
    "Ok, now our `neighbor_trip` has another attribute called `distance_from_selected`, that indicates the distance from the `neighbor_trip`'s pickup location from the `selected_trip`."
   ]
  },
  {
   "cell_type": "markdown",
   "metadata": {},
   "source": [
    "> ** Understand the data:** Our dictionary now has a few attributes, two of which say distance.  Let's make sure we understand the difference. \n",
    "> * **`distance_from_selected`:** This is our calculation of the distance of the neighbor's pickup location from the selected trip.\n",
    "> * **`trip_distance`:** This is the attribute we were provided initially.  It tells us the length of the neighbor's taxi trip from pickup to drop-off.  "
   ]
  },
  {
   "cell_type": "markdown",
   "metadata": {},
   "source": [
    "Next, write a function called `distance_all` that provided a list of neighbors, returns each of those neighbors with their respective `distance_from_selected` numbers."
   ]
  },
  {
   "cell_type": "code",
   "execution_count": null,
   "metadata": {},
   "outputs": [],
   "source": [
    "def distance_all(selected_individual, neighbors):\n",
    "    pass"
   ]
  },
  {
   "cell_type": "code",
   "execution_count": null,
   "metadata": {},
   "outputs": [],
   "source": [
    "cleaned_trips and distance_all(first_trip, cleaned_trips[0:4])"
   ]
  },
  {
   "cell_type": "markdown",
   "metadata": {},
   "source": [
    "Now write the nearest neighbors formula to calculate the distance of the `selected_trip` from all of the `cleaned_trips` in our dataset.  If no number is provided, it should return the top 3 neighbors."
   ]
  },
  {
   "cell_type": "code",
   "execution_count": null,
   "metadata": {},
   "outputs": [],
   "source": [
    "def nearest_neighbors(selected_trip, trips, number = 3):\n",
    "    pass"
   ]
  },
  {
   "cell_type": "code",
   "execution_count": null,
   "metadata": {},
   "outputs": [],
   "source": [
    "new_trip = {'pickup_latitude': 40.64499,\n",
    "'pickup_longitude': -73.78115,\n",
    "'trip_distance': 18.38}\n",
    "\n",
    "nearest_three_neighbors = nearest_neighbors(new_trip, cleaned_trips or [], number = 3)\n",
    "nearest_three_neighbors\n",
    "# [{'distance_from_selected': 0.0004569288784918792,\n",
    "#   'pickup_latitude': 40.64483,\n",
    "#   'pickup_longitude': -73.781578,\n",
    "#   'trip_distance': 7.78},\n",
    "#  {'distance_from_selected': 0.0011292165425673159,\n",
    "#   'pickup_latitude': 40.644657,\n",
    "#   'pickup_longitude': -73.782229,\n",
    "#   'trip_distance': 12.7},\n",
    "#  {'distance_from_selected': 0.0042359798158141185,\n",
    "#   'pickup_latitude': 40.648509,\n",
    "#   'pickup_longitude': -73.783508,\n",
    "#   'trip_distance': 17.3}]"
   ]
  },
  {
   "cell_type": "markdown",
   "metadata": {},
   "source": [
    "Ok great! Now that we can provide a new trip location, and find the distances of the three nearest trips, we can take  calculate an estimate of the trip distance for that new trip location.  \n",
    "\n",
    "We do so simply by calculating the average of it's nearest neighbors."
   ]
  },
  {
   "cell_type": "code",
   "execution_count": null,
   "metadata": {},
   "outputs": [],
   "source": [
    "import statistics\n",
    "def mean_distance(neighbors):\n",
    "    nearest_distances = list(map(lambda neighbor: neighbor['trip_distance'], neighbors))\n",
    "    return round(statistics.mean(nearest_distances), 3)\n",
    "\n",
    "nearest_three_neighbors = nearest_neighbors(new_trip, cleaned_trips or [], number = 3)\n",
    "distance_estimate_of_selected_trip = mean_distance(nearest_three_neighbors) # 12.593\n",
    "distance_estimate_of_selected_trip"
   ]
  },
  {
   "cell_type": "markdown",
   "metadata": {},
   "source": [
    "### Choosing the correct number of neighbors"
   ]
  },
  {
   "cell_type": "markdown",
   "metadata": {},
   "source": [
    "Now, as we know from the last lesson, one tricky element is to determine how many neighbors to choose, our $k$ value,  before calculating the average.  We want to choose our value of $k$ such that it properly matches actual data, and so that it applies to new data.  There are fancy formulas to ensure that we **train** our algorithm so that our formula is optimized for all data, but here let's see different $k$ values manually.  This is the gist of choosing our $k$ value:\n",
    "\n",
    "* If we choose a $k$ value too low, our formula will be too heavily influenced by a single neighbor, whereas if our $k$ value is too high, we will be choosing so many neighbors that our nearest neighbors formula will not be adjust enough according to locations.\n",
    "\n",
    "Ok, let's experiment with this."
   ]
  },
  {
   "cell_type": "markdown",
   "metadata": {},
   "source": [
    "First, let's choose a midtown location, to see what the trip distance would be.  A Google search reveals the coordinates of 51st and 7th avenue to be the following."
   ]
  },
  {
   "cell_type": "code",
   "execution_count": null,
   "metadata": {},
   "outputs": [],
   "source": [
    "midtown_trip = dict(pickup_latitude=40.761710, pickup_longitude=-73.982760)"
   ]
  },
  {
   "cell_type": "code",
   "execution_count": null,
   "metadata": {},
   "outputs": [],
   "source": [
    "seven_closest = nearest_neighbors(midtown_trip, cleaned_trips, number = 7)\n",
    "seven_closest\n",
    "# [{'trip_distance': 0.58,\n",
    "#   'pickup_latitude': 40.761372,\n",
    "#   'pickup_longitude': -73.982602,\n",
    "#   'distance_from_selected': 0.00037310588309379025},\n",
    "#  {'trip_distance': 0.8,\n",
    "#   'pickup_latitude': 40.762444,\n",
    "#   'pickup_longitude': -73.98244,\n",
    "#   'distance_from_selected': 0.00080072217404248},\n",
    "#  {'trip_distance': 1.4,\n",
    "#   'pickup_latitude': 40.762767,\n",
    "#   'pickup_longitude': -73.982293,\n",
    "#   'distance_from_selected': 0.0011555682584735844},\n",
    "#  {'trip_distance': 8.3,\n",
    "#   'pickup_latitude': 40.762868,\n",
    "#   'pickup_longitude': -73.983233,\n",
    "#   'distance_from_selected': 0.0012508768924205918},\n",
    "#  {'trip_distance': 1.26,\n",
    "#   'pickup_latitude': 40.760057,\n",
    "#   'pickup_longitude': -73.983502,\n",
    "#   'distance_from_selected': 0.0018118976240381972},\n",
    "#  {'trip_distance': 0.0,\n",
    "#   'pickup_latitude': 40.760644,\n",
    "#   'pickup_longitude': -73.984531,\n",
    "#   'distance_from_selected': 0.002067074502774709},\n",
    "#  {'trip_distance': 1.72,\n",
    "#   'pickup_latitude': 40.762107,\n",
    "#   'pickup_longitude': -73.98479,\n",
    "#   'distance_from_selected': 0.0020684557041472677}]"
   ]
  },
  {
   "cell_type": "markdown",
   "metadata": {},
   "source": [
    "Looking at the `distance_from_selected` it appears that our our trips are still fairly close to our selected trip.  Notice that most of the data is within a distance of .002 away, so going to the top 7 nearest neighbors didn't seem to give us neighbors too far from each other, which is a good sign.\n",
    "\n",
    "Still, it's hard to know what distance in latitude and longitude really look like, so let's map the data. "
   ]
  },
  {
   "cell_type": "code",
   "execution_count": null,
   "metadata": {},
   "outputs": [],
   "source": [
    "midtown_location = location(midtown_trip) # [40.76171, -73.98276]\n",
    "midtown_map = map_from(midtown_location, 16)\n",
    "closest_markers = markers_from_trips(seven_closest)\n",
    "\n",
    "add_markers(closest_markers, midtown_map)"
   ]
  },
  {
   "cell_type": "markdown",
   "metadata": {},
   "source": [
    "Ok.  These locations stay fairly close to our estimated location of 51st street and 7th Avenue.  So they could be a good estimate of a trip distance."
   ]
  },
  {
   "cell_type": "code",
   "execution_count": null,
   "metadata": {},
   "outputs": [],
   "source": [
    "mean_distance(seven_closest) # 2.009"
   ]
  },
  {
   "cell_type": "markdown",
   "metadata": {},
   "source": [
    "Ok, now let's try a different location"
   ]
  },
  {
   "cell_type": "code",
   "execution_count": null,
   "metadata": {},
   "outputs": [],
   "source": [
    "charging_bull_closest = nearest_neighbors({'pickup_latitude': 40.7049, 'pickup_longitude': -74.0137}, cleaned_trips, number = 12)"
   ]
  },
  {
   "cell_type": "code",
   "execution_count": null,
   "metadata": {
    "scrolled": true
   },
   "outputs": [],
   "source": [
    "mean_distance(charging_bull_closest) # 3.145"
   ]
  },
  {
   "cell_type": "markdown",
   "metadata": {},
   "source": [
    "Ok, so there appears to be a significant difference between choosing a location near Times Square versus choosing a location at Wall Street."
   ]
  },
  {
   "cell_type": "markdown",
   "metadata": {},
   "source": [
    "### Summary"
   ]
  },
  {
   "cell_type": "markdown",
   "metadata": {},
   "source": [
    "In this lab, we used the nearest neighbors function to predict the length of a taxi ride.  To do so, we selected a location, then found a number of taxi rides closest to that location, and finally took the average trip lengths of the nearest taxi rides to find an estimate of the new ride's trip length.  You can see that even with just a little bit of math and programming we can begin to make meaningful predictions with data."
   ]
  }
 ],
 "metadata": {
  "kernelspec": {
   "display_name": "Python 3",
   "language": "python",
   "name": "python3"
  },
  "language_info": {
   "codemirror_mode": {
    "name": "ipython",
    "version": 3
   },
   "file_extension": ".py",
   "mimetype": "text/x-python",
   "name": "python",
   "nbconvert_exporter": "python",
   "pygments_lexer": "ipython3",
   "version": "3.6.6"
  }
 },
 "nbformat": 4,
 "nbformat_minor": 2
}
